{
  "cells": [
    {
      "cell_type": "markdown",
      "id": "20e22450",
      "metadata": {
        "id": "20e22450"
      },
      "source": [
        "# Data 102: Final Project Code Notebook #"
      ]
    },
    {
      "cell_type": "markdown",
      "id": "2def610f",
      "metadata": {
        "id": "2def610f"
      },
      "source": [
        "**Team Members:** Sohail Attari, Ankita Janakiraman, Kashish Kharbanda, Ishika Prashar\n",
        "\n",
        "**Fall 2022**"
      ]
    },
    {
      "cell_type": "markdown",
      "id": "e5fb37b8",
      "metadata": {
        "id": "e5fb37b8"
      },
      "source": [
        "## Setup ##"
      ]
    },
    {
      "cell_type": "code",
      "execution_count": null,
      "id": "9ed88bd2",
      "metadata": {
        "id": "9ed88bd2"
      },
      "outputs": [],
      "source": [
        "#import relevant packages\n",
        "import numpy as np\n",
        "import matplotlib\n",
        "import matplotlib.pyplot as plt\n",
        "import seaborn as sns\n",
        "import pandas as pd\n",
        "%matplotlib inline\n",
        "from sklearn.ensemble import RandomForestClassifier\n",
        "from sklearn.model_selection import train_test_split\n",
        "from sklearn.neural_network import MLPClassifier\n",
        "try:\n",
        "    from pymc3 import *\n",
        "    import pymc3 as pm\n",
        "except:\n",
        "    ! pip install pymc3\n",
        "    from pymc3 import *\n",
        "    import pymc3 as pm\n",
        "from scipy.stats import poisson, norm, gamma\n",
        "import statsmodels.api as sm"
      ]
    },
    {
      "cell_type": "markdown",
      "source": [
        "Importing our data files from the cdc climate data, and hloc redlining neighborhood data"
      ],
      "metadata": {
        "id": "4WkacPfXE0W9"
      },
      "id": "4WkacPfXE0W9"
    },
    {
      "cell_type": "markdown",
      "source": [
        "**Links for Datasets:**\n",
        "\n",
        "1.   [Ozone Concentrations Dataset (given in class)](https://drive.google.com/file/d/16PVtdnPOp4FfCIPY0fzC9WDyZwSBUR19/view?usp=share_link)\n",
        "2.  [PM2.5 Concentrations Dataset (given in class)](https://drive.google.com/file/d/1d4PriNnJ3OczeOq8-8wJIV8WWZkwirP2/view?usp=share_link)\n",
        "3. [Redlining Dataset (external)](https://drive.google.com/file/d/1xfMVKdSyXd-vQRuEfZE0Q5LTzpyPEB5B/view?usp=share_link)\n",
        "\n",
        "\n",
        "\n",
        "\n"
      ],
      "metadata": {
        "id": "EUuXUmIJgUtQ"
      },
      "id": "EUuXUmIJgUtQ"
    },
    {
      "cell_type": "markdown",
      "source": [
        "**Instructions to Import Data:**\n",
        "\n",
        "\n",
        "\n",
        "1.   Download all datasets above as csv files\n",
        "2.   Save them in the same folder as this notebook\n",
        "3. Name the ozone dataset *'ozonect.csv'*\n",
        "4. Name the pm2.5 dataset *'pm25ct.csv'*\n",
        "5. Name the redlining dataset *'redlining.csv'*\n",
        "\n"
      ],
      "metadata": {
        "id": "N3A0ZCSihSXi"
      },
      "id": "N3A0ZCSihSXi"
    },
    {
      "cell_type": "code",
      "execution_count": null,
      "id": "d245b98a",
      "metadata": {
        "id": "d245b98a"
      },
      "outputs": [],
      "source": [
        "#pm2.5 concentration data grouped by ctfips (average prediction and standard deviation levels)\n",
        "pm25 = pd.read_csv('pm25ct.csv')\n",
        "#redline grades per geoid10 - which is the same as the ctfips area code from cdc data\n",
        "redline = pd.read_csv('redlining.csv')\n",
        "#ozone concentration data grouped by ctfips (average prediction and standard deviation levels)\n",
        "ozone = pd.read_csv('ozonect.csv')\n",
        "#renaming column for merging \n",
        "redline.rename(columns={'geoid10': 'ctfips'}, inplace=True)\n",
        "#merging pm2.55 and redline grades by area codes (ctfips) based on city\n",
        "pmred = pm25.merge(redline, on='ctfips', how='inner')\n",
        "#merging pm2.5 and redline merged table with ozone by area codes (ctfips) based on city\n",
        "final_df = pmred.merge(ozone, on='ctfips', how='inner')"
      ]
    },
    {
      "cell_type": "markdown",
      "source": [
        "Here, we are creating a new binary column called affluent which is 1 for neighborhoods graded as 'A' or 'B' and 0 for neighborhoods graded as 'C' or 'D' for visualizations and GLMs later on "
      ],
      "metadata": {
        "id": "cASbyYQIFgbg"
      },
      "id": "cASbyYQIFgbg"
    },
    {
      "cell_type": "code",
      "execution_count": null,
      "id": "98802308",
      "metadata": {
        "colab": {
          "base_uri": "https://localhost:8080/",
          "height": 340
        },
        "id": "98802308",
        "outputId": "7ad7b8cd-a3fc-45aa-9fb1-8bc187573f38"
      },
      "outputs": [
        {
          "output_type": "execute_result",
          "data": {
            "text/plain": [
              "       ctfips  ds_pm_pred  ds_pm_stdd class1 class1_lbl class2  \\\n",
              "0  1073000100   11.898241    4.332809      D   Mainly D    D-C   \n",
              "1  1073000300   12.040417    4.320224      D   Mainly D    D-C   \n",
              "2  1073000400   12.044875    4.317920      D   Mainly D    D-C   \n",
              "3  1073000500   12.103510    4.314429      D   Mainly D      D   \n",
              "4  1073000700   12.133744    4.283445      D   Mainly D      D   \n",
              "\n",
              "         class2_lbl        class2_red class3                class3_lbl  \\\n",
              "0  Mainly D, some C  Mainly D, some C  D-C-B  Mainly D, some C, some B   \n",
              "1  Mainly D, some C  Mainly D, some C    D-C          Mainly D, some C   \n",
              "2  Mainly D, some C  Mainly D, some C    D-C          Mainly D, some C   \n",
              "3          Mainly D            Only D      D                  Mainly D   \n",
              "4          Mainly D            Only D      D                  Mainly D   \n",
              "\n",
              "   area_total  area_rated     area_U  area_A    area_B     area_C     area_D  \\\n",
              "0   7549575.5   73.293701  26.706303     0.0  4.261454  26.091936  42.940308   \n",
              "1   2093096.8   94.083206   5.916792     0.0  0.000000   0.586387  93.496819   \n",
              "2   8001587.5   46.586910  53.413090     0.0  0.000000  10.454468  36.132439   \n",
              "3   4819156.5   65.387039  34.612961     0.0  0.000000   0.000000  65.387039   \n",
              "4   3520562.8   41.288933  58.711067     0.0  0.000000   0.000000  41.288933   \n",
              "\n",
              "   ds_o3_pred  ds_o3_stdd  affluent  \n",
              "0   39.039415    4.259071         0  \n",
              "1   38.829519    4.186385         0  \n",
              "2   38.877846    4.145246         0  \n",
              "3   38.752318    4.133409         0  \n",
              "4   38.698619    4.073281         0  "
            ],
            "text/html": [
              "\n",
              "  <div id=\"df-931b92ee-1fba-438b-a74a-88c18247111f\">\n",
              "    <div class=\"colab-df-container\">\n",
              "      <div>\n",
              "<style scoped>\n",
              "    .dataframe tbody tr th:only-of-type {\n",
              "        vertical-align: middle;\n",
              "    }\n",
              "\n",
              "    .dataframe tbody tr th {\n",
              "        vertical-align: top;\n",
              "    }\n",
              "\n",
              "    .dataframe thead th {\n",
              "        text-align: right;\n",
              "    }\n",
              "</style>\n",
              "<table border=\"1\" class=\"dataframe\">\n",
              "  <thead>\n",
              "    <tr style=\"text-align: right;\">\n",
              "      <th></th>\n",
              "      <th>ctfips</th>\n",
              "      <th>ds_pm_pred</th>\n",
              "      <th>ds_pm_stdd</th>\n",
              "      <th>class1</th>\n",
              "      <th>class1_lbl</th>\n",
              "      <th>class2</th>\n",
              "      <th>class2_lbl</th>\n",
              "      <th>class2_red</th>\n",
              "      <th>class3</th>\n",
              "      <th>class3_lbl</th>\n",
              "      <th>area_total</th>\n",
              "      <th>area_rated</th>\n",
              "      <th>area_U</th>\n",
              "      <th>area_A</th>\n",
              "      <th>area_B</th>\n",
              "      <th>area_C</th>\n",
              "      <th>area_D</th>\n",
              "      <th>ds_o3_pred</th>\n",
              "      <th>ds_o3_stdd</th>\n",
              "      <th>affluent</th>\n",
              "    </tr>\n",
              "  </thead>\n",
              "  <tbody>\n",
              "    <tr>\n",
              "      <th>0</th>\n",
              "      <td>1073000100</td>\n",
              "      <td>11.898241</td>\n",
              "      <td>4.332809</td>\n",
              "      <td>D</td>\n",
              "      <td>Mainly D</td>\n",
              "      <td>D-C</td>\n",
              "      <td>Mainly D, some C</td>\n",
              "      <td>Mainly D, some C</td>\n",
              "      <td>D-C-B</td>\n",
              "      <td>Mainly D, some C, some B</td>\n",
              "      <td>7549575.5</td>\n",
              "      <td>73.293701</td>\n",
              "      <td>26.706303</td>\n",
              "      <td>0.0</td>\n",
              "      <td>4.261454</td>\n",
              "      <td>26.091936</td>\n",
              "      <td>42.940308</td>\n",
              "      <td>39.039415</td>\n",
              "      <td>4.259071</td>\n",
              "      <td>0</td>\n",
              "    </tr>\n",
              "    <tr>\n",
              "      <th>1</th>\n",
              "      <td>1073000300</td>\n",
              "      <td>12.040417</td>\n",
              "      <td>4.320224</td>\n",
              "      <td>D</td>\n",
              "      <td>Mainly D</td>\n",
              "      <td>D-C</td>\n",
              "      <td>Mainly D, some C</td>\n",
              "      <td>Mainly D, some C</td>\n",
              "      <td>D-C</td>\n",
              "      <td>Mainly D, some C</td>\n",
              "      <td>2093096.8</td>\n",
              "      <td>94.083206</td>\n",
              "      <td>5.916792</td>\n",
              "      <td>0.0</td>\n",
              "      <td>0.000000</td>\n",
              "      <td>0.586387</td>\n",
              "      <td>93.496819</td>\n",
              "      <td>38.829519</td>\n",
              "      <td>4.186385</td>\n",
              "      <td>0</td>\n",
              "    </tr>\n",
              "    <tr>\n",
              "      <th>2</th>\n",
              "      <td>1073000400</td>\n",
              "      <td>12.044875</td>\n",
              "      <td>4.317920</td>\n",
              "      <td>D</td>\n",
              "      <td>Mainly D</td>\n",
              "      <td>D-C</td>\n",
              "      <td>Mainly D, some C</td>\n",
              "      <td>Mainly D, some C</td>\n",
              "      <td>D-C</td>\n",
              "      <td>Mainly D, some C</td>\n",
              "      <td>8001587.5</td>\n",
              "      <td>46.586910</td>\n",
              "      <td>53.413090</td>\n",
              "      <td>0.0</td>\n",
              "      <td>0.000000</td>\n",
              "      <td>10.454468</td>\n",
              "      <td>36.132439</td>\n",
              "      <td>38.877846</td>\n",
              "      <td>4.145246</td>\n",
              "      <td>0</td>\n",
              "    </tr>\n",
              "    <tr>\n",
              "      <th>3</th>\n",
              "      <td>1073000500</td>\n",
              "      <td>12.103510</td>\n",
              "      <td>4.314429</td>\n",
              "      <td>D</td>\n",
              "      <td>Mainly D</td>\n",
              "      <td>D</td>\n",
              "      <td>Mainly D</td>\n",
              "      <td>Only D</td>\n",
              "      <td>D</td>\n",
              "      <td>Mainly D</td>\n",
              "      <td>4819156.5</td>\n",
              "      <td>65.387039</td>\n",
              "      <td>34.612961</td>\n",
              "      <td>0.0</td>\n",
              "      <td>0.000000</td>\n",
              "      <td>0.000000</td>\n",
              "      <td>65.387039</td>\n",
              "      <td>38.752318</td>\n",
              "      <td>4.133409</td>\n",
              "      <td>0</td>\n",
              "    </tr>\n",
              "    <tr>\n",
              "      <th>4</th>\n",
              "      <td>1073000700</td>\n",
              "      <td>12.133744</td>\n",
              "      <td>4.283445</td>\n",
              "      <td>D</td>\n",
              "      <td>Mainly D</td>\n",
              "      <td>D</td>\n",
              "      <td>Mainly D</td>\n",
              "      <td>Only D</td>\n",
              "      <td>D</td>\n",
              "      <td>Mainly D</td>\n",
              "      <td>3520562.8</td>\n",
              "      <td>41.288933</td>\n",
              "      <td>58.711067</td>\n",
              "      <td>0.0</td>\n",
              "      <td>0.000000</td>\n",
              "      <td>0.000000</td>\n",
              "      <td>41.288933</td>\n",
              "      <td>38.698619</td>\n",
              "      <td>4.073281</td>\n",
              "      <td>0</td>\n",
              "    </tr>\n",
              "  </tbody>\n",
              "</table>\n",
              "</div>\n",
              "      <button class=\"colab-df-convert\" onclick=\"convertToInteractive('df-931b92ee-1fba-438b-a74a-88c18247111f')\"\n",
              "              title=\"Convert this dataframe to an interactive table.\"\n",
              "              style=\"display:none;\">\n",
              "        \n",
              "  <svg xmlns=\"http://www.w3.org/2000/svg\" height=\"24px\"viewBox=\"0 0 24 24\"\n",
              "       width=\"24px\">\n",
              "    <path d=\"M0 0h24v24H0V0z\" fill=\"none\"/>\n",
              "    <path d=\"M18.56 5.44l.94 2.06.94-2.06 2.06-.94-2.06-.94-.94-2.06-.94 2.06-2.06.94zm-11 1L8.5 8.5l.94-2.06 2.06-.94-2.06-.94L8.5 2.5l-.94 2.06-2.06.94zm10 10l.94 2.06.94-2.06 2.06-.94-2.06-.94-.94-2.06-.94 2.06-2.06.94z\"/><path d=\"M17.41 7.96l-1.37-1.37c-.4-.4-.92-.59-1.43-.59-.52 0-1.04.2-1.43.59L10.3 9.45l-7.72 7.72c-.78.78-.78 2.05 0 2.83L4 21.41c.39.39.9.59 1.41.59.51 0 1.02-.2 1.41-.59l7.78-7.78 2.81-2.81c.8-.78.8-2.07 0-2.86zM5.41 20L4 18.59l7.72-7.72 1.47 1.35L5.41 20z\"/>\n",
              "  </svg>\n",
              "      </button>\n",
              "      \n",
              "  <style>\n",
              "    .colab-df-container {\n",
              "      display:flex;\n",
              "      flex-wrap:wrap;\n",
              "      gap: 12px;\n",
              "    }\n",
              "\n",
              "    .colab-df-convert {\n",
              "      background-color: #E8F0FE;\n",
              "      border: none;\n",
              "      border-radius: 50%;\n",
              "      cursor: pointer;\n",
              "      display: none;\n",
              "      fill: #1967D2;\n",
              "      height: 32px;\n",
              "      padding: 0 0 0 0;\n",
              "      width: 32px;\n",
              "    }\n",
              "\n",
              "    .colab-df-convert:hover {\n",
              "      background-color: #E2EBFA;\n",
              "      box-shadow: 0px 1px 2px rgba(60, 64, 67, 0.3), 0px 1px 3px 1px rgba(60, 64, 67, 0.15);\n",
              "      fill: #174EA6;\n",
              "    }\n",
              "\n",
              "    [theme=dark] .colab-df-convert {\n",
              "      background-color: #3B4455;\n",
              "      fill: #D2E3FC;\n",
              "    }\n",
              "\n",
              "    [theme=dark] .colab-df-convert:hover {\n",
              "      background-color: #434B5C;\n",
              "      box-shadow: 0px 1px 3px 1px rgba(0, 0, 0, 0.15);\n",
              "      filter: drop-shadow(0px 1px 2px rgba(0, 0, 0, 0.3));\n",
              "      fill: #FFFFFF;\n",
              "    }\n",
              "  </style>\n",
              "\n",
              "      <script>\n",
              "        const buttonEl =\n",
              "          document.querySelector('#df-931b92ee-1fba-438b-a74a-88c18247111f button.colab-df-convert');\n",
              "        buttonEl.style.display =\n",
              "          google.colab.kernel.accessAllowed ? 'block' : 'none';\n",
              "\n",
              "        async function convertToInteractive(key) {\n",
              "          const element = document.querySelector('#df-931b92ee-1fba-438b-a74a-88c18247111f');\n",
              "          const dataTable =\n",
              "            await google.colab.kernel.invokeFunction('convertToInteractive',\n",
              "                                                     [key], {});\n",
              "          if (!dataTable) return;\n",
              "\n",
              "          const docLinkHtml = 'Like what you see? Visit the ' +\n",
              "            '<a target=\"_blank\" href=https://colab.research.google.com/notebooks/data_table.ipynb>data table notebook</a>'\n",
              "            + ' to learn more about interactive tables.';\n",
              "          element.innerHTML = '';\n",
              "          dataTable['output_type'] = 'display_data';\n",
              "          await google.colab.output.renderOutput(dataTable, element);\n",
              "          const docLink = document.createElement('div');\n",
              "          docLink.innerHTML = docLinkHtml;\n",
              "          element.appendChild(docLink);\n",
              "        }\n",
              "      </script>\n",
              "    </div>\n",
              "  </div>\n",
              "  "
            ]
          },
          "metadata": {},
          "execution_count": 5
        }
      ],
      "source": [
        "#replacing grades string values with numerical to make a binary feature that aggragates and clearly differentiates good vs bad neighborhoods \n",
        "final_df['affluent'] = final_df['class1'].replace({'D': 0 , 'C': 0, 'B':1,'A':1})\n",
        "final_df.head()"
      ]
    },
    {
      "cell_type": "markdown",
      "id": "ffcad99a",
      "metadata": {
        "id": "ffcad99a"
      },
      "source": [
        "## Section 1: Exploratory Data Analysis ##"
      ]
    },
    {
      "cell_type": "markdown",
      "source": [
        "The box and whisker plot distribution seem to underestimate the trend we expected to see in the distribution of PM 2.5 concentration levels. It seems the average concentration levels across the grades are fairly similar, with a slight difference and higher levels for 'C' graded neighborhoods."
      ],
      "metadata": {
        "id": "cxd9r16vF90j"
      },
      "id": "cxd9r16vF90j"
    },
    {
      "cell_type": "code",
      "execution_count": null,
      "id": "80ca224d",
      "metadata": {
        "colab": {
          "base_uri": "https://localhost:8080/",
          "height": 295
        },
        "id": "80ca224d",
        "outputId": "061db1bd-f724-4feb-e188-fb8feddaf017"
      },
      "outputs": [
        {
          "output_type": "display_data",
          "data": {
            "text/plain": [
              "<Figure size 432x288 with 1 Axes>"
            ],
            "image/png": "[encoded data removed]"
          },
          "metadata": {
            "needs_background": "light"
          }
        }
      ],
      "source": [
        "#boxplot where class 1 represents the four different neighborhood grades by their pm2.5 pollutant concentration averages\n",
        "sns.boxplot(data=final_df, y='ds_pm_pred', x='class1').set(title='Distribution of PM2.5 Across Redline Categories');"
      ]
    },
    {
      "cell_type": "code",
      "execution_count": null,
      "id": "42723938",
      "metadata": {
        "colab": {
          "base_uri": "https://localhost:8080/",
          "height": 295
        },
        "id": "42723938",
        "outputId": "b6040dba-0f15-4346-bb94-e67687968e32"
      },
      "outputs": [
        {
          "output_type": "display_data",
          "data": {
            "text/plain": [
              "<Figure size 432x288 with 1 Axes>"
            ],
            "image/png": "[encoded data removed]"
          },
          "metadata": {
            "needs_background": "light"
          }
        }
      ],
      "source": [
        "sns.boxplot(data=final_df, y='ds_o3_pred', x='class1').set(title='Distribution of Ozone Across Redline Categories');"
      ]
    },
    {
      "cell_type": "code",
      "execution_count": null,
      "id": "f8124d1d",
      "metadata": {
        "colab": {
          "base_uri": "https://localhost:8080/",
          "height": 314
        },
        "id": "f8124d1d",
        "outputId": "306dd485-5e3c-47c5-cf80-7504a6d95d48"
      },
      "outputs": [
        {
          "output_type": "execute_result",
          "data": {
            "text/plain": [
              "Text(0.5, 1.0, 'Mean o3 Concentration vs. Mean pm Concentration in Areas A and B')"
            ]
          },
          "metadata": {},
          "execution_count": 8
        },
        {
          "output_type": "display_data",
          "data": {
            "text/plain": [
              "<Figure size 432x288 with 1 Axes>"
            ],
            "image/png": "[encoded data removed]"
          },
          "metadata": {
            "needs_background": "light"
          }
        }
      ],
      "source": [
        "#This is a scatterplot comparing the ozone and pm2.5 concentrations for \n",
        "#neighborhoods with grade A and grade B\n",
        "filter = (final_df['class1']=='A') | (final_df['class1']=='B')\n",
        "sns.scatterplot(data = final_df[filter], x = \"ds_pm_pred\", y = \"ds_o3_pred\", \n",
        "               hue = 'class1', edgecolor = 'none', s = 9, alpha = 0.8)\n",
        "plt.title('Mean o3 Concentration vs. Mean pm Concentration in Areas A and B')"
      ]
    },
    {
      "cell_type": "code",
      "execution_count": null,
      "id": "fd8dee6d",
      "metadata": {
        "colab": {
          "base_uri": "https://localhost:8080/",
          "height": 314
        },
        "id": "fd8dee6d",
        "outputId": "52af6fce-9222-40e7-e91c-e8a39f34cf99"
      },
      "outputs": [
        {
          "output_type": "execute_result",
          "data": {
            "text/plain": [
              "Text(0.5, 1.0, 'Mean o3 Concentration vs. Mean pm Concentration in Areas C and D')"
            ]
          },
          "metadata": {},
          "execution_count": 9
        },
        {
          "output_type": "display_data",
          "data": {
            "text/plain": [
              "<Figure size 432x288 with 1 Axes>"
            ],
            "image/png": "[encoded data removed]"
          },
          "metadata": {
            "needs_background": "light"
          }
        }
      ],
      "source": [
        "#This is a scatterplot comparing the ozone and pm2.5 concentrations for \n",
        "#neighborhoods with grade C and grade D\n",
        "filter = (final_df['class1']=='C') | (final_df['class1']=='D')\n",
        "sns.scatterplot(data = final_df[filter], x = \"ds_pm_pred\", y = \"ds_o3_pred\", \n",
        "               hue = 'class1', edgecolor = 'none', s = 9, alpha = 0.8)\n",
        "plt.title('Mean o3 Concentration vs. Mean pm Concentration in Areas C and D')"
      ]
    },
    {
      "cell_type": "code",
      "execution_count": null,
      "id": "a4f9eb28",
      "metadata": {
        "colab": {
          "base_uri": "https://localhost:8080/",
          "height": 296
        },
        "id": "a4f9eb28",
        "outputId": "a0c990b0-419a-474e-8bbd-80eabd5c609a"
      },
      "outputs": [
        {
          "output_type": "display_data",
          "data": {
            "text/plain": [
              "<Figure size 432x288 with 1 Axes>"
            ],
            "image/png": "[encoded data removed]"
          },
          "metadata": {
            "needs_background": "light"
          }
        }
      ],
      "source": [
        "#This is a an overlaid histogram depicting the distribution of PM 2.5 concentration levels \n",
        "#between A and D grade neighborhoods. However, there isn’t a big difference in the distributions as we had expected and the mean \n",
        "#PM 2.5 levels of each neighborhood are almost identical.\n",
        "A_frame = final_df.loc[final_df['class1'] == 'A']\n",
        "D_frame = final_df.loc[final_df['class1'] == 'D']\n",
        "\n",
        "sns.histplot(data=A_frame, x=\"ds_pm_pred\", color=\"blue\", label=\"A-grade neighborhoods\", kde=False)\n",
        "sns.histplot(data=D_frame, x=\"ds_pm_pred\", color=\"red\", label=\"D-grade neighborhoods\", kde=False)\n",
        "plt.axvline(x= A_frame['ds_pm_pred'].mean(), color='green')\n",
        "plt.axvline(x= D_frame['ds_pm_pred'].mean(), color='purple')\n",
        "\n",
        "\n",
        "plt.legend() \n",
        "plt.title(\"Distribution of PM 2.5 Concentrations across A and D neighborhoods\")\n",
        "plt.show()"
      ]
    },
    {
      "cell_type": "code",
      "execution_count": null,
      "id": "0b975189",
      "metadata": {
        "id": "0b975189",
        "colab": {
          "base_uri": "https://localhost:8080/",
          "height": 296
        },
        "outputId": "f7f6eff6-24b9-4fde-9a89-0ea0394c414e"
      },
      "outputs": [
        {
          "output_type": "display_data",
          "data": {
            "text/plain": [
              "<Figure size 432x288 with 1 Axes>"
            ],
            "image/png": "[encoded data removed]"
          },
          "metadata": {
            "needs_background": "light"
          }
        }
      ],
      "source": [
        "#This is a an overlaid histogram depicting the distribution of PM 2.5 \n",
        "#concentration levels between B and C grade neighborhoods. \n",
        "#The mean PM 2.5 levels of each neighborhood are almost identical.\n",
        "B_frame = final_df.loc[final_df['class1'] == 'B']\n",
        "C_frame = final_df.loc[final_df['class1'] == 'C']\n",
        "\n",
        "sns.histplot(data=B_frame, x=\"ds_pm_pred\", color=\"green\", label=\"B-grade neighborhoods\", kde=False)\n",
        "sns.histplot(data=C_frame, x=\"ds_pm_pred\", color=\"orange\", label=\"C-grade neighborhoods\", kde=False)\n",
        "plt.axvline(x= B_frame['ds_pm_pred'].mean(), color='purple')\n",
        "plt.axvline(x= C_frame['ds_pm_pred'].mean(), color='red')\n",
        "\n",
        "plt.legend() \n",
        "plt.title(\"Distribution of PM 2.5 Concentrations across B and C neighborhoods\")\n",
        "plt.show()"
      ]
    },
    {
      "cell_type": "markdown",
      "id": "e0d20f1c",
      "metadata": {
        "id": "e0d20f1c"
      },
      "source": [
        "## Section 2: Modeling"
      ]
    },
    {
      "cell_type": "markdown",
      "id": "ead1e88c",
      "metadata": {
        "id": "ead1e88c"
      },
      "source": [
        "### Section 2.1, Technique 1: Multiple Hypothesis Testing and Decision-Making"
      ]
    },
    {
      "cell_type": "code",
      "execution_count": null,
      "id": "5feda537",
      "metadata": {
        "id": "5feda537"
      },
      "outputs": [],
      "source": [
        "#random seed\n",
        "#these three functions form the steps for an A/B test\n",
        "\n",
        "#this function gets the difference in mean ozone or pm2.5 concentration between the specified class and members not in the specified class\n",
        "def avg_diff_means(df, class1, ozone_pm25_col):\n",
        "    df1 = df[[class1, ozone_pm25_col]]\n",
        "    df2 = df1.groupby(class1).mean()\n",
        "    difference = df2[ozone_pm25_col][1] - df2[ozone_pm25_col][0]\n",
        "    return difference\n",
        "\n",
        "#this function shuffles the binary class labels and then computes the average difference in means with the new grouping post-shuffling\n",
        "def sample_once(df, class1, ozone_pm25_col):\n",
        "    shuffled = df[class1].sample(n = len(df[class1]), replace = False).values\n",
        "    df['shuffled'] = shuffled\n",
        "    return avg_diff_means(df, 'shuffled', ozone_pm25_col)\n",
        "\n",
        "#this function repeats the shuffling process to get the difference 10000 times and then computes the p-value\n",
        "def sampling_procedure(df, class1, ozone_pm25_col):\n",
        "    obs_diff = avg_diff_means(df, class1, ozone_pm25_col)\n",
        "    \n",
        "    differences = []\n",
        "    reps = 10000\n",
        "    \n",
        "    for i in range(reps):\n",
        "        one_test_diff = sample_once(df, class1, ozone_pm25_col)\n",
        "        differences.append(one_test_diff)\n",
        "    \n",
        "    count = sum(differences <= obs_diff)\n",
        "    return count/reps"
      ]
    },
    {
      "cell_type": "code",
      "execution_count": null,
      "id": "76a93d88",
      "metadata": {
        "colab": {
          "base_uri": "https://localhost:8080/",
          "height": 369
        },
        "id": "76a93d88",
        "outputId": "6415fe16-69e6-49de-8b79-2189e4171a6e"
      },
      "outputs": [
        {
          "output_type": "execute_result",
          "data": {
            "text/plain": [
              "       ctfips  ds_pm_pred  ds_pm_stdd class1 class1_lbl class2  \\\n",
              "0  1073000100   11.898241    4.332809      D   Mainly D    D-C   \n",
              "1  1073000300   12.040417    4.320224      D   Mainly D    D-C   \n",
              "2  1073000400   12.044875    4.317920      D   Mainly D    D-C   \n",
              "3  1073000500   12.103510    4.314429      D   Mainly D      D   \n",
              "4  1073000700   12.133744    4.283445      D   Mainly D      D   \n",
              "\n",
              "         class2_lbl        class2_red class3                class3_lbl  ...  \\\n",
              "0  Mainly D, some C  Mainly D, some C  D-C-B  Mainly D, some C, some B  ...   \n",
              "1  Mainly D, some C  Mainly D, some C    D-C          Mainly D, some C  ...   \n",
              "2  Mainly D, some C  Mainly D, some C    D-C          Mainly D, some C  ...   \n",
              "3          Mainly D            Only D      D                  Mainly D  ...   \n",
              "4          Mainly D            Only D      D                  Mainly D  ...   \n",
              "\n",
              "     area_B     area_C     area_D  ds_o3_pred  ds_o3_stdd  affluent      A  \\\n",
              "0  4.261454  26.091936  42.940308   39.039415    4.259071         0  False   \n",
              "1  0.000000   0.586387  93.496819   38.829519    4.186385         0  False   \n",
              "2  0.000000  10.454468  36.132439   38.877846    4.145246         0  False   \n",
              "3  0.000000   0.000000  65.387039   38.752318    4.133409         0  False   \n",
              "4  0.000000   0.000000  41.288933   38.698619    4.073281         0  False   \n",
              "\n",
              "       B      C     D  \n",
              "0  False  False  True  \n",
              "1  False  False  True  \n",
              "2  False  False  True  \n",
              "3  False  False  True  \n",
              "4  False  False  True  \n",
              "\n",
              "[5 rows x 24 columns]"
            ],
            "text/html": [
              "\n",
              "  <div id=\"df-0424ac36-1890-4f41-9f1f-e3b8945cd2ee\">\n",
              "    <div class=\"colab-df-container\">\n",
              "      <div>\n",
              "<style scoped>\n",
              "    .dataframe tbody tr th:only-of-type {\n",
              "        vertical-align: middle;\n",
              "    }\n",
              "\n",
              "    .dataframe tbody tr th {\n",
              "        vertical-align: top;\n",
              "    }\n",
              "\n",
              "    .dataframe thead th {\n",
              "        text-align: right;\n",
              "    }\n",
              "</style>\n",
              "<table border=\"1\" class=\"dataframe\">\n",
              "  <thead>\n",
              "    <tr style=\"text-align: right;\">\n",
              "      <th></th>\n",
              "      <th>ctfips</th>\n",
              "      <th>ds_pm_pred</th>\n",
              "      <th>ds_pm_stdd</th>\n",
              "      <th>class1</th>\n",
              "      <th>class1_lbl</th>\n",
              "      <th>class2</th>\n",
              "      <th>class2_lbl</th>\n",
              "      <th>class2_red</th>\n",
              "      <th>class3</th>\n",
              "      <th>class3_lbl</th>\n",
              "      <th>...</th>\n",
              "      <th>area_B</th>\n",
              "      <th>area_C</th>\n",
              "      <th>area_D</th>\n",
              "      <th>ds_o3_pred</th>\n",
              "      <th>ds_o3_stdd</th>\n",
              "      <th>affluent</th>\n",
              "      <th>A</th>\n",
              "      <th>B</th>\n",
              "      <th>C</th>\n",
              "      <th>D</th>\n",
              "    </tr>\n",
              "  </thead>\n",
              "  <tbody>\n",
              "    <tr>\n",
              "      <th>0</th>\n",
              "      <td>1073000100</td>\n",
              "      <td>11.898241</td>\n",
              "      <td>4.332809</td>\n",
              "      <td>D</td>\n",
              "      <td>Mainly D</td>\n",
              "      <td>D-C</td>\n",
              "      <td>Mainly D, some C</td>\n",
              "      <td>Mainly D, some C</td>\n",
              "      <td>D-C-B</td>\n",
              "      <td>Mainly D, some C, some B</td>\n",
              "      <td>...</td>\n",
              "      <td>4.261454</td>\n",
              "      <td>26.091936</td>\n",
              "      <td>42.940308</td>\n",
              "      <td>39.039415</td>\n",
              "      <td>4.259071</td>\n",
              "      <td>0</td>\n",
              "      <td>False</td>\n",
              "      <td>False</td>\n",
              "      <td>False</td>\n",
              "      <td>True</td>\n",
              "    </tr>\n",
              "    <tr>\n",
              "      <th>1</th>\n",
              "      <td>1073000300</td>\n",
              "      <td>12.040417</td>\n",
              "      <td>4.320224</td>\n",
              "      <td>D</td>\n",
              "      <td>Mainly D</td>\n",
              "      <td>D-C</td>\n",
              "      <td>Mainly D, some C</td>\n",
              "      <td>Mainly D, some C</td>\n",
              "      <td>D-C</td>\n",
              "      <td>Mainly D, some C</td>\n",
              "      <td>...</td>\n",
              "      <td>0.000000</td>\n",
              "      <td>0.586387</td>\n",
              "      <td>93.496819</td>\n",
              "      <td>38.829519</td>\n",
              "      <td>4.186385</td>\n",
              "      <td>0</td>\n",
              "      <td>False</td>\n",
              "      <td>False</td>\n",
              "      <td>False</td>\n",
              "      <td>True</td>\n",
              "    </tr>\n",
              "    <tr>\n",
              "      <th>2</th>\n",
              "      <td>1073000400</td>\n",
              "      <td>12.044875</td>\n",
              "      <td>4.317920</td>\n",
              "      <td>D</td>\n",
              "      <td>Mainly D</td>\n",
              "      <td>D-C</td>\n",
              "      <td>Mainly D, some C</td>\n",
              "      <td>Mainly D, some C</td>\n",
              "      <td>D-C</td>\n",
              "      <td>Mainly D, some C</td>\n",
              "      <td>...</td>\n",
              "      <td>0.000000</td>\n",
              "      <td>10.454468</td>\n",
              "      <td>36.132439</td>\n",
              "      <td>38.877846</td>\n",
              "      <td>4.145246</td>\n",
              "      <td>0</td>\n",
              "      <td>False</td>\n",
              "      <td>False</td>\n",
              "      <td>False</td>\n",
              "      <td>True</td>\n",
              "    </tr>\n",
              "    <tr>\n",
              "      <th>3</th>\n",
              "      <td>1073000500</td>\n",
              "      <td>12.103510</td>\n",
              "      <td>4.314429</td>\n",
              "      <td>D</td>\n",
              "      <td>Mainly D</td>\n",
              "      <td>D</td>\n",
              "      <td>Mainly D</td>\n",
              "      <td>Only D</td>\n",
              "      <td>D</td>\n",
              "      <td>Mainly D</td>\n",
              "      <td>...</td>\n",
              "      <td>0.000000</td>\n",
              "      <td>0.000000</td>\n",
              "      <td>65.387039</td>\n",
              "      <td>38.752318</td>\n",
              "      <td>4.133409</td>\n",
              "      <td>0</td>\n",
              "      <td>False</td>\n",
              "      <td>False</td>\n",
              "      <td>False</td>\n",
              "      <td>True</td>\n",
              "    </tr>\n",
              "    <tr>\n",
              "      <th>4</th>\n",
              "      <td>1073000700</td>\n",
              "      <td>12.133744</td>\n",
              "      <td>4.283445</td>\n",
              "      <td>D</td>\n",
              "      <td>Mainly D</td>\n",
              "      <td>D</td>\n",
              "      <td>Mainly D</td>\n",
              "      <td>Only D</td>\n",
              "      <td>D</td>\n",
              "      <td>Mainly D</td>\n",
              "      <td>...</td>\n",
              "      <td>0.000000</td>\n",
              "      <td>0.000000</td>\n",
              "      <td>41.288933</td>\n",
              "      <td>38.698619</td>\n",
              "      <td>4.073281</td>\n",
              "      <td>0</td>\n",
              "      <td>False</td>\n",
              "      <td>False</td>\n",
              "      <td>False</td>\n",
              "      <td>True</td>\n",
              "    </tr>\n",
              "  </tbody>\n",
              "</table>\n",
              "<p>5 rows × 24 columns</p>\n",
              "</div>\n",
              "      <button class=\"colab-df-convert\" onclick=\"convertToInteractive('df-0424ac36-1890-4f41-9f1f-e3b8945cd2ee')\"\n",
              "              title=\"Convert this dataframe to an interactive table.\"\n",
              "              style=\"display:none;\">\n",
              "        \n",
              "  <svg xmlns=\"http://www.w3.org/2000/svg\" height=\"24px\"viewBox=\"0 0 24 24\"\n",
              "       width=\"24px\">\n",
              "    <path d=\"M0 0h24v24H0V0z\" fill=\"none\"/>\n",
              "    <path d=\"M18.56 5.44l.94 2.06.94-2.06 2.06-.94-2.06-.94-.94-2.06-.94 2.06-2.06.94zm-11 1L8.5 8.5l.94-2.06 2.06-.94-2.06-.94L8.5 2.5l-.94 2.06-2.06.94zm10 10l.94 2.06.94-2.06 2.06-.94-2.06-.94-.94-2.06-.94 2.06-2.06.94z\"/><path d=\"M17.41 7.96l-1.37-1.37c-.4-.4-.92-.59-1.43-.59-.52 0-1.04.2-1.43.59L10.3 9.45l-7.72 7.72c-.78.78-.78 2.05 0 2.83L4 21.41c.39.39.9.59 1.41.59.51 0 1.02-.2 1.41-.59l7.78-7.78 2.81-2.81c.8-.78.8-2.07 0-2.86zM5.41 20L4 18.59l7.72-7.72 1.47 1.35L5.41 20z\"/>\n",
              "  </svg>\n",
              "      </button>\n",
              "      \n",
              "  <style>\n",
              "    .colab-df-container {\n",
              "      display:flex;\n",
              "      flex-wrap:wrap;\n",
              "      gap: 12px;\n",
              "    }\n",
              "\n",
              "    .colab-df-convert {\n",
              "      background-color: #E8F0FE;\n",
              "      border: none;\n",
              "      border-radius: 50%;\n",
              "      cursor: pointer;\n",
              "      display: none;\n",
              "      fill: #1967D2;\n",
              "      height: 32px;\n",
              "      padding: 0 0 0 0;\n",
              "      width: 32px;\n",
              "    }\n",
              "\n",
              "    .colab-df-convert:hover {\n",
              "      background-color: #E2EBFA;\n",
              "      box-shadow: 0px 1px 2px rgba(60, 64, 67, 0.3), 0px 1px 3px 1px rgba(60, 64, 67, 0.15);\n",
              "      fill: #174EA6;\n",
              "    }\n",
              "\n",
              "    [theme=dark] .colab-df-convert {\n",
              "      background-color: #3B4455;\n",
              "      fill: #D2E3FC;\n",
              "    }\n",
              "\n",
              "    [theme=dark] .colab-df-convert:hover {\n",
              "      background-color: #434B5C;\n",
              "      box-shadow: 0px 1px 3px 1px rgba(0, 0, 0, 0.15);\n",
              "      filter: drop-shadow(0px 1px 2px rgba(0, 0, 0, 0.3));\n",
              "      fill: #FFFFFF;\n",
              "    }\n",
              "  </style>\n",
              "\n",
              "      <script>\n",
              "        const buttonEl =\n",
              "          document.querySelector('#df-0424ac36-1890-4f41-9f1f-e3b8945cd2ee button.colab-df-convert');\n",
              "        buttonEl.style.display =\n",
              "          google.colab.kernel.accessAllowed ? 'block' : 'none';\n",
              "\n",
              "        async function convertToInteractive(key) {\n",
              "          const element = document.querySelector('#df-0424ac36-1890-4f41-9f1f-e3b8945cd2ee');\n",
              "          const dataTable =\n",
              "            await google.colab.kernel.invokeFunction('convertToInteractive',\n",
              "                                                     [key], {});\n",
              "          if (!dataTable) return;\n",
              "\n",
              "          const docLinkHtml = 'Like what you see? Visit the ' +\n",
              "            '<a target=\"_blank\" href=https://colab.research.google.com/notebooks/data_table.ipynb>data table notebook</a>'\n",
              "            + ' to learn more about interactive tables.';\n",
              "          element.innerHTML = '';\n",
              "          dataTable['output_type'] = 'display_data';\n",
              "          await google.colab.output.renderOutput(dataTable, element);\n",
              "          const docLink = document.createElement('div');\n",
              "          docLink.innerHTML = docLinkHtml;\n",
              "          element.appendChild(docLink);\n",
              "        }\n",
              "      </script>\n",
              "    </div>\n",
              "  </div>\n",
              "  "
            ]
          },
          "metadata": {},
          "execution_count": 13
        }
      ],
      "source": [
        "#add 4 binary columns to indicate group memberships to separate the dataframe by class label\n",
        "final_df['A'] = final_df['class1'] == 'A'\n",
        "final_df['B'] = final_df['class1'] == 'B'\n",
        "final_df['C'] = final_df['class1'] == 'C'\n",
        "final_df['D'] = final_df['class1'] == 'D'\n",
        "final_df.head()"
      ]
    },
    {
      "cell_type": "code",
      "execution_count": null,
      "id": "75e13d39",
      "metadata": {
        "colab": {
          "base_uri": "https://localhost:8080/"
        },
        "id": "75e13d39",
        "outputId": "fcd9921f-aeef-48d5-98e5-9de5240f2723"
      },
      "outputs": [
        {
          "output_type": "execute_result",
          "data": {
            "text/plain": [
              "1.0"
            ]
          },
          "metadata": {},
          "execution_count": 14
        }
      ],
      "source": [
        "#test 1 conducts an A/B test for group A and the ozone concentration level, testing null hypothesis 1\n",
        "#gets a p-value\n",
        "a_o3 = sampling_procedure(final_df, 'A', 'ds_o3_pred')\n",
        "a_o3"
      ]
    },
    {
      "cell_type": "code",
      "execution_count": null,
      "id": "c8daa357",
      "metadata": {
        "colab": {
          "base_uri": "https://localhost:8080/"
        },
        "id": "c8daa357",
        "outputId": "5b9ea66c-4e7d-413a-c168-52ba897e7fc8"
      },
      "outputs": [
        {
          "output_type": "execute_result",
          "data": {
            "text/plain": [
              "0.9407"
            ]
          },
          "metadata": {},
          "execution_count": 15
        }
      ],
      "source": [
        "#test 2 conducts an A/B test for group B and the ozone concentration level, testing null hypothesis 2\n",
        "#gets a p-value\n",
        "b_o3 = sampling_procedure(final_df, 'B', 'ds_o3_pred')\n",
        "b_o3"
      ]
    },
    {
      "cell_type": "code",
      "execution_count": null,
      "id": "0c1e64b0",
      "metadata": {
        "colab": {
          "base_uri": "https://localhost:8080/"
        },
        "id": "0c1e64b0",
        "outputId": "c17c17b3-29c3-4fb8-9b57-edaa368f303f"
      },
      "outputs": [
        {
          "output_type": "execute_result",
          "data": {
            "text/plain": [
              "0.1265"
            ]
          },
          "metadata": {},
          "execution_count": 16
        }
      ],
      "source": [
        "#test 3 conducts an A/B test for group C and the ozone concentration level, testing null hypothesis 3\n",
        "#gets a p-value\n",
        "c_o3 = sampling_procedure(final_df, 'C', 'ds_o3_pred')\n",
        "c_o3"
      ]
    },
    {
      "cell_type": "code",
      "execution_count": null,
      "id": "abf36656",
      "metadata": {
        "colab": {
          "base_uri": "https://localhost:8080/"
        },
        "id": "abf36656",
        "outputId": "384b2e48-75ec-40da-f8ea-2422d193b9ad"
      },
      "outputs": [
        {
          "output_type": "execute_result",
          "data": {
            "text/plain": [
              "0.0"
            ]
          },
          "metadata": {},
          "execution_count": 17
        }
      ],
      "source": [
        "#test 4 conducts an A/B test for group D and the ozone concentration level, testing null hypothesis 4\n",
        "#gets a p-value\n",
        "d_o3 = sampling_procedure(final_df, 'D', 'ds_o3_pred')\n",
        "d_o3"
      ]
    },
    {
      "cell_type": "code",
      "execution_count": null,
      "id": "bbd0e50d",
      "metadata": {
        "colab": {
          "base_uri": "https://localhost:8080/"
        },
        "id": "bbd0e50d",
        "outputId": "29d9e66f-7b6c-40ce-c169-6d1df70ed7d4"
      },
      "outputs": [
        {
          "output_type": "execute_result",
          "data": {
            "text/plain": [
              "0.0"
            ]
          },
          "metadata": {},
          "execution_count": 18
        }
      ],
      "source": [
        "#test 5 conducts an A/B test for group A and the pm2.5 concentration level, testing null hypothesis 5\n",
        "#gets a p-value\n",
        "a_pm = sampling_procedure(final_df, 'A', 'ds_pm_pred')\n",
        "a_pm"
      ]
    },
    {
      "cell_type": "code",
      "execution_count": null,
      "id": "545b1b2b",
      "metadata": {
        "colab": {
          "base_uri": "https://localhost:8080/"
        },
        "id": "545b1b2b",
        "outputId": "105d6e78-879c-4b78-a80a-4824bdf578ee"
      },
      "outputs": [
        {
          "output_type": "execute_result",
          "data": {
            "text/plain": [
              "0.0"
            ]
          },
          "metadata": {},
          "execution_count": 19
        }
      ],
      "source": [
        "#test 6 conducts an A/B test for group B and the pm2.5 concentration level, testing null hypothesis 6\n",
        "#gets a p-value\n",
        "b_pm = sampling_procedure(final_df, 'B', 'ds_pm_pred')\n",
        "b_pm"
      ]
    },
    {
      "cell_type": "code",
      "execution_count": null,
      "id": "631f3161",
      "metadata": {
        "colab": {
          "base_uri": "https://localhost:8080/"
        },
        "id": "631f3161",
        "outputId": "66860d3f-9cff-4022-9c6f-5d044dc2ef49"
      },
      "outputs": [
        {
          "output_type": "execute_result",
          "data": {
            "text/plain": [
              "1.0"
            ]
          },
          "metadata": {},
          "execution_count": 20
        }
      ],
      "source": [
        "#test 7 conducts an A/B test for group C and the pm2.5 concentration level, testing null hypothesis 7\n",
        "#gets a p-value\n",
        "c_pm = sampling_procedure(final_df, 'C', 'ds_pm_pred')\n",
        "c_pm"
      ]
    },
    {
      "cell_type": "code",
      "execution_count": null,
      "id": "47a1bb21",
      "metadata": {
        "colab": {
          "base_uri": "https://localhost:8080/"
        },
        "id": "47a1bb21",
        "outputId": "ad7665a5-f143-42f0-cdf9-55f906ef0feb"
      },
      "outputs": [
        {
          "output_type": "execute_result",
          "data": {
            "text/plain": [
              "0.9998"
            ]
          },
          "metadata": {},
          "execution_count": 21
        }
      ],
      "source": [
        "#test 8 conducts an A/B test for group D and the pm2.5 concentration level, testing null hypothesis 8\n",
        "#gets a p-value\n",
        "d_pm = sampling_procedure(final_df, 'D', 'ds_pm_pred')\n",
        "d_pm"
      ]
    },
    {
      "cell_type": "code",
      "execution_count": null,
      "id": "aa62dbcb",
      "metadata": {
        "colab": {
          "base_uri": "https://localhost:8080/"
        },
        "id": "aa62dbcb",
        "outputId": "14e35741-57c8-4d9d-a84b-9294dc86a6fd"
      },
      "outputs": [
        {
          "output_type": "execute_result",
          "data": {
            "text/plain": [
              "[False, False, False, True, True, True, False, False]"
            ]
          },
          "metadata": {},
          "execution_count": 22
        }
      ],
      "source": [
        "#code for Bonferroni correction procedure that controls for FWER by using a new alpha which is 0.05/8\n",
        "#looks at whether all p-values from all 8 tests above are less-than or equal to new alpha\n",
        "#reject null for that respective test if so\n",
        "new_a = 0.05/8\n",
        "\n",
        "p_vals = [a_o3, b_o3, c_o3, d_o3, a_pm, b_pm, c_pm, d_pm]\n",
        "\n",
        "decisions = [p_vals[i] <= new_a for i in range(len(p_vals))]\n",
        "decisions"
      ]
    },
    {
      "cell_type": "code",
      "execution_count": null,
      "id": "f63ce6a4",
      "metadata": {
        "colab": {
          "base_uri": "https://localhost:8080/"
        },
        "id": "f63ce6a4",
        "outputId": "a8a4b9aa-81c1-4aa8-f753-402f425b6352"
      },
      "outputs": [
        {
          "output_type": "stream",
          "name": "stdout",
          "text": [
            "new threshold: 0.0\n",
            "[1.0, 0.9407, 0.1265, 0.0, 0.0, 0.0, 1.0, 0.9998]\n"
          ]
        },
        {
          "output_type": "execute_result",
          "data": {
            "text/plain": [
              "array([False, False, False,  True,  True,  True, False, False])"
            ]
          },
          "metadata": {},
          "execution_count": 23
        }
      ],
      "source": [
        "#code for BH Procedure that controls FDP by computing a new threshold for each test based on its index\n",
        "#uses the formula for line (index) * (p-value/8)\n",
        "#get highest p-value below the line\n",
        "#use this as threshold for all tests\n",
        "#looks at whether all p-values from all 8 tests above are less-than or equal to new threshold\n",
        "#reject null for that respective test if so\n",
        "p_vals = [a_o3, b_o3, c_o3, d_o3, a_pm, b_pm, c_pm, d_pm]\n",
        "sorted_p_vals = sorted(p_vals)\n",
        "\n",
        "highest = -100\n",
        "\n",
        "for i in range(len(sorted_p_vals)):\n",
        "    if sorted_p_vals[i] <= (i+1)*(0.05/len(sorted_p_vals)):\n",
        "        highest = sorted_p_vals[i]\n",
        "\n",
        "print(\"new threshold:\", highest)\n",
        "print(p_vals)\n",
        "\n",
        "decisions_bh = p_vals <= highest\n",
        "decisions_bh"
      ]
    },
    {
      "cell_type": "code",
      "execution_count": null,
      "id": "aa2e1c37",
      "metadata": {
        "colab": {
          "base_uri": "https://localhost:8080/",
          "height": 300
        },
        "id": "aa2e1c37",
        "outputId": "0b5b3725-2afe-4daf-fd19-14cc6fe5f781"
      },
      "outputs": [
        {
          "output_type": "execute_result",
          "data": {
            "text/plain": [
              "        0  index  p_vals  sorted  bonferroni       bh\n",
              "0  1.0000      1  1.0000  0.0000     0.00625  0.00625\n",
              "1  0.9407      2  0.9407  0.0000     0.00625  0.01250\n",
              "2  0.1265      3  0.1265  0.0000     0.00625  0.01875\n",
              "3  0.0000      4  0.0000  0.1265     0.00625  0.02500\n",
              "4  0.0000      5  0.0000  0.9407     0.00625  0.03125\n",
              "5  0.0000      6  0.0000  0.9998     0.00625  0.03750\n",
              "6  1.0000      7  1.0000  1.0000     0.00625  0.04375\n",
              "7  0.9998      8  0.9998  1.0000     0.00625  0.05000"
            ],
            "text/html": [
              "\n",
              "  <div id=\"df-2fd9c6ce-0e43-4e6d-881c-6d0997806607\">\n",
              "    <div class=\"colab-df-container\">\n",
              "      <div>\n",
              "<style scoped>\n",
              "    .dataframe tbody tr th:only-of-type {\n",
              "        vertical-align: middle;\n",
              "    }\n",
              "\n",
              "    .dataframe tbody tr th {\n",
              "        vertical-align: top;\n",
              "    }\n",
              "\n",
              "    .dataframe thead th {\n",
              "        text-align: right;\n",
              "    }\n",
              "</style>\n",
              "<table border=\"1\" class=\"dataframe\">\n",
              "  <thead>\n",
              "    <tr style=\"text-align: right;\">\n",
              "      <th></th>\n",
              "      <th>0</th>\n",
              "      <th>index</th>\n",
              "      <th>p_vals</th>\n",
              "      <th>sorted</th>\n",
              "      <th>bonferroni</th>\n",
              "      <th>bh</th>\n",
              "    </tr>\n",
              "  </thead>\n",
              "  <tbody>\n",
              "    <tr>\n",
              "      <th>0</th>\n",
              "      <td>1.0000</td>\n",
              "      <td>1</td>\n",
              "      <td>1.0000</td>\n",
              "      <td>0.0000</td>\n",
              "      <td>0.00625</td>\n",
              "      <td>0.00625</td>\n",
              "    </tr>\n",
              "    <tr>\n",
              "      <th>1</th>\n",
              "      <td>0.9407</td>\n",
              "      <td>2</td>\n",
              "      <td>0.9407</td>\n",
              "      <td>0.0000</td>\n",
              "      <td>0.00625</td>\n",
              "      <td>0.01250</td>\n",
              "    </tr>\n",
              "    <tr>\n",
              "      <th>2</th>\n",
              "      <td>0.1265</td>\n",
              "      <td>3</td>\n",
              "      <td>0.1265</td>\n",
              "      <td>0.0000</td>\n",
              "      <td>0.00625</td>\n",
              "      <td>0.01875</td>\n",
              "    </tr>\n",
              "    <tr>\n",
              "      <th>3</th>\n",
              "      <td>0.0000</td>\n",
              "      <td>4</td>\n",
              "      <td>0.0000</td>\n",
              "      <td>0.1265</td>\n",
              "      <td>0.00625</td>\n",
              "      <td>0.02500</td>\n",
              "    </tr>\n",
              "    <tr>\n",
              "      <th>4</th>\n",
              "      <td>0.0000</td>\n",
              "      <td>5</td>\n",
              "      <td>0.0000</td>\n",
              "      <td>0.9407</td>\n",
              "      <td>0.00625</td>\n",
              "      <td>0.03125</td>\n",
              "    </tr>\n",
              "    <tr>\n",
              "      <th>5</th>\n",
              "      <td>0.0000</td>\n",
              "      <td>6</td>\n",
              "      <td>0.0000</td>\n",
              "      <td>0.9998</td>\n",
              "      <td>0.00625</td>\n",
              "      <td>0.03750</td>\n",
              "    </tr>\n",
              "    <tr>\n",
              "      <th>6</th>\n",
              "      <td>1.0000</td>\n",
              "      <td>7</td>\n",
              "      <td>1.0000</td>\n",
              "      <td>1.0000</td>\n",
              "      <td>0.00625</td>\n",
              "      <td>0.04375</td>\n",
              "    </tr>\n",
              "    <tr>\n",
              "      <th>7</th>\n",
              "      <td>0.9998</td>\n",
              "      <td>8</td>\n",
              "      <td>0.9998</td>\n",
              "      <td>1.0000</td>\n",
              "      <td>0.00625</td>\n",
              "      <td>0.05000</td>\n",
              "    </tr>\n",
              "  </tbody>\n",
              "</table>\n",
              "</div>\n",
              "      <button class=\"colab-df-convert\" onclick=\"convertToInteractive('df-2fd9c6ce-0e43-4e6d-881c-6d0997806607')\"\n",
              "              title=\"Convert this dataframe to an interactive table.\"\n",
              "              style=\"display:none;\">\n",
              "        \n",
              "  <svg xmlns=\"http://www.w3.org/2000/svg\" height=\"24px\"viewBox=\"0 0 24 24\"\n",
              "       width=\"24px\">\n",
              "    <path d=\"M0 0h24v24H0V0z\" fill=\"none\"/>\n",
              "    <path d=\"M18.56 5.44l.94 2.06.94-2.06 2.06-.94-2.06-.94-.94-2.06-.94 2.06-2.06.94zm-11 1L8.5 8.5l.94-2.06 2.06-.94-2.06-.94L8.5 2.5l-.94 2.06-2.06.94zm10 10l.94 2.06.94-2.06 2.06-.94-2.06-.94-.94-2.06-.94 2.06-2.06.94z\"/><path d=\"M17.41 7.96l-1.37-1.37c-.4-.4-.92-.59-1.43-.59-.52 0-1.04.2-1.43.59L10.3 9.45l-7.72 7.72c-.78.78-.78 2.05 0 2.83L4 21.41c.39.39.9.59 1.41.59.51 0 1.02-.2 1.41-.59l7.78-7.78 2.81-2.81c.8-.78.8-2.07 0-2.86zM5.41 20L4 18.59l7.72-7.72 1.47 1.35L5.41 20z\"/>\n",
              "  </svg>\n",
              "      </button>\n",
              "      \n",
              "  <style>\n",
              "    .colab-df-container {\n",
              "      display:flex;\n",
              "      flex-wrap:wrap;\n",
              "      gap: 12px;\n",
              "    }\n",
              "\n",
              "    .colab-df-convert {\n",
              "      background-color: #E8F0FE;\n",
              "      border: none;\n",
              "      border-radius: 50%;\n",
              "      cursor: pointer;\n",
              "      display: none;\n",
              "      fill: #1967D2;\n",
              "      height: 32px;\n",
              "      padding: 0 0 0 0;\n",
              "      width: 32px;\n",
              "    }\n",
              "\n",
              "    .colab-df-convert:hover {\n",
              "      background-color: #E2EBFA;\n",
              "      box-shadow: 0px 1px 2px rgba(60, 64, 67, 0.3), 0px 1px 3px 1px rgba(60, 64, 67, 0.15);\n",
              "      fill: #174EA6;\n",
              "    }\n",
              "\n",
              "    [theme=dark] .colab-df-convert {\n",
              "      background-color: #3B4455;\n",
              "      fill: #D2E3FC;\n",
              "    }\n",
              "\n",
              "    [theme=dark] .colab-df-convert:hover {\n",
              "      background-color: #434B5C;\n",
              "      box-shadow: 0px 1px 3px 1px rgba(0, 0, 0, 0.15);\n",
              "      filter: drop-shadow(0px 1px 2px rgba(0, 0, 0, 0.3));\n",
              "      fill: #FFFFFF;\n",
              "    }\n",
              "  </style>\n",
              "\n",
              "      <script>\n",
              "        const buttonEl =\n",
              "          document.querySelector('#df-2fd9c6ce-0e43-4e6d-881c-6d0997806607 button.colab-df-convert');\n",
              "        buttonEl.style.display =\n",
              "          google.colab.kernel.accessAllowed ? 'block' : 'none';\n",
              "\n",
              "        async function convertToInteractive(key) {\n",
              "          const element = document.querySelector('#df-2fd9c6ce-0e43-4e6d-881c-6d0997806607');\n",
              "          const dataTable =\n",
              "            await google.colab.kernel.invokeFunction('convertToInteractive',\n",
              "                                                     [key], {});\n",
              "          if (!dataTable) return;\n",
              "\n",
              "          const docLinkHtml = 'Like what you see? Visit the ' +\n",
              "            '<a target=\"_blank\" href=https://colab.research.google.com/notebooks/data_table.ipynb>data table notebook</a>'\n",
              "            + ' to learn more about interactive tables.';\n",
              "          element.innerHTML = '';\n",
              "          dataTable['output_type'] = 'display_data';\n",
              "          await google.colab.output.renderOutput(dataTable, element);\n",
              "          const docLink = document.createElement('div');\n",
              "          docLink.innerHTML = docLinkHtml;\n",
              "          element.appendChild(docLink);\n",
              "        }\n",
              "      </script>\n",
              "    </div>\n",
              "  </div>\n",
              "  "
            ]
          },
          "metadata": {},
          "execution_count": 24
        }
      ],
      "source": [
        "#supplementary dataframe to create the graph in next cell\n",
        "#add all p-values from 8 tests\n",
        "#add all sorted p-values from 8 tests\n",
        "#add all bonferroni threshold values\n",
        "#add all bh procedure threshold values\n",
        "frame = pd.DataFrame(p_vals)\n",
        "frame['index'] = np.arange(1, 9)\n",
        "frame['p_vals'] = p_vals\n",
        "frame['sorted'] = sorted_p_vals\n",
        "frame['bonferroni'] = [0.05/8] * 8\n",
        "frame['bh'] = frame['index']*(0.05/8)\n",
        "frame"
      ]
    },
    {
      "cell_type": "code",
      "execution_count": null,
      "id": "bc2350f3",
      "metadata": {
        "colab": {
          "base_uri": "https://localhost:8080/",
          "height": 313
        },
        "id": "bc2350f3",
        "outputId": "1811906f-53df-467a-a452-6b5ed23acca8"
      },
      "outputs": [
        {
          "output_type": "execute_result",
          "data": {
            "text/plain": [
              "Text(0.5, 0, 'index')"
            ]
          },
          "metadata": {},
          "execution_count": 25
        },
        {
          "output_type": "display_data",
          "data": {
            "text/plain": [
              "<Figure size 432x288 with 1 Axes>"
            ],
            "image/png": "[encoded data removed]"
          },
          "metadata": {
            "needs_background": "light"
          }
        }
      ],
      "source": [
        "#plot sorted p-values from 8 tests\n",
        "#plot computed bonferroni threshold and bh threshold line\n",
        "plt.scatter(x = frame.index, y = frame['sorted'])\n",
        "plt.plot(frame['bonferroni'], label = 'bonferroni')\n",
        "plt.plot(frame['bh'], label = 'benjamini-hochberg')\n",
        "plt.legend()\n",
        "plt.title('Sorted P-Values and Bonferroni and BH Thresholds')\n",
        "plt.ylabel('p-value')\n",
        "plt.xlabel('index')"
      ]
    },
    {
      "cell_type": "markdown",
      "id": "c1e296f8",
      "metadata": {
        "id": "c1e296f8"
      },
      "source": [
        "### Section 2.2, Technique 2: GLMs and Prediction"
      ]
    },
    {
      "cell_type": "markdown",
      "id": "a23d2d7f",
      "metadata": {
        "id": "a23d2d7f"
      },
      "source": [
        "#### Nonparametric Methods"
      ]
    },
    {
      "cell_type": "markdown",
      "source": [
        "Feature creation on ozone and pm2.5 concentrations to aid in higher accuracy for nonparametric models. "
      ],
      "metadata": {
        "id": "WS0RVFnDGVK-"
      },
      "id": "WS0RVFnDGVK-"
    },
    {
      "cell_type": "code",
      "execution_count": null,
      "id": "720ecffc",
      "metadata": {
        "id": "720ecffc"
      },
      "outputs": [],
      "source": [
        "#creating new feature high_pm which is 1 if the pm2.5 polluntant concentration raises above 12, which is considered to be above normal \n",
        "final_df['high_pm'] = (final_df['ds_pm_pred']>12).astype(int)\n",
        "#creating a linear combination of ozone and pm2.5 concentration predictions by multiplying the two prediction averages together \n",
        "final_df['feature1'] = final_df['ds_pm_pred']*final_df['ds_o3_pred']\n",
        "#creating a linear combination of ozone and pm2.5 concentration standard deviations by multiplying \n",
        "final_df['feature2'] = final_df['ds_pm_stdd']*final_df['ds_o3_stdd']\n",
        "#creating a linear combination of pm2.5 concentrations by multiplying pollutant standard deviation and concentration values \n",
        "final_df['feature3'] = final_df['ds_pm_stdd']*final_df['ds_pm_pred']\n",
        "#creating a linear combination of ozone concentrations by multiplying ozone standard deviation and concentration values\n",
        "final_df['feature4'] = final_df['ds_o3_pred']*final_df['ds_o3_stdd']"
      ]
    },
    {
      "cell_type": "markdown",
      "source": [
        "Spliting up 50% of the data into a train set and 50% into a test set"
      ],
      "metadata": {
        "id": "B4tY7WZoHy_g"
      },
      "id": "B4tY7WZoHy_g"
    },
    {
      "cell_type": "code",
      "execution_count": null,
      "id": "f7b224f8",
      "metadata": {
        "id": "f7b224f8"
      },
      "outputs": [],
      "source": [
        "#using sklearn train test split package to randomly split the data with a test size of 50%\n",
        "X_train, X_test, y_train, y_test = train_test_split(final_df[['ds_pm_pred','ds_pm_stdd','ds_o3_pred','ds_o3_stdd',\n",
        "                                                           'high_pm','feature1','feature2','feature3','feature4']], \n",
        "                                                    final_df['affluent'], test_size=0.5, random_state=42)"
      ]
    },
    {
      "cell_type": "markdown",
      "source": [
        "Training a random forest classifier on the training set of the data and predicting affluent values for the test set. Finally, getting the accuracy of the predictions"
      ],
      "metadata": {
        "id": "wA6xcOwEH9eO"
      },
      "id": "wA6xcOwEH9eO"
    },
    {
      "cell_type": "code",
      "execution_count": null,
      "id": "cfecb2bf",
      "metadata": {
        "colab": {
          "base_uri": "https://localhost:8080/"
        },
        "id": "cfecb2bf",
        "outputId": "03243edd-8015-42cb-a2ed-9273ecfbba13"
      },
      "outputs": [
        {
          "output_type": "stream",
          "name": "stdout",
          "text": [
            "Accuracy: \n",
            "0.8048319611283574\n"
          ]
        }
      ],
      "source": [
        "#initializing random forset classifier from sklearn package, with max_depth 200 and max_features = 3 which is 1/3 of the total features\n",
        "rfc = RandomForestClassifier(max_depth=200, random_state=42,max_features=3) \n",
        "#fit the random forest classifier to train data\n",
        "rfc.fit(X_train,y_train)\n",
        "#getting accuracy for predictions made by the random forest classifier on whether or not the grade level for a neighborhood based on concentrations is 'A','B' or 'C','D'\n",
        "print('Accuracy: ') \n",
        "print(rfc.score(X_test, y_test))"
      ]
    },
    {
      "cell_type": "code",
      "execution_count": null,
      "id": "a8a5bfcf",
      "metadata": {
        "colab": {
          "base_uri": "https://localhost:8080/"
        },
        "id": "a8a5bfcf",
        "outputId": "8ba10f6f-60cd-4e6c-af23-2351aa235b1b"
      },
      "outputs": [
        {
          "output_type": "stream",
          "name": "stdout",
          "text": [
            "Accuracy: \n",
            "0.7315427183155622\n"
          ]
        }
      ],
      "source": [
        "#initializing neural network from sklearn package with (10, 10) hidden layers\n",
        "clf = MLPClassifier(hidden_layer_sizes = (10,10), random_state = 42) \n",
        "#fit the sklearn's Multi-layer Perceptron classifier to train data\n",
        "clf.fit(X_train, y_train)\n",
        "#getting accuracy for predictions made by the neural network on whether or not the grade level for a neighborhood based on concentrations is 'A','B' or 'C','D'\n",
        "print('Accuracy: ') \n",
        "print(clf.score(X_test, y_test))"
      ]
    },
    {
      "cell_type": "markdown",
      "id": "8ed79018",
      "metadata": {
        "id": "8ed79018"
      },
      "source": [
        "#### GLMs"
      ]
    },
    {
      "cell_type": "markdown",
      "id": "240efcae",
      "metadata": {
        "id": "240efcae"
      },
      "source": [
        "**Frequentist**"
      ]
    },
    {
      "cell_type": "markdown",
      "source": [
        "Code for a fequentist GLM logistic model to predict affluent neighborhoods based on ozone predictions \n",
        "\n"
      ],
      "metadata": {
        "id": "yUEiDTwLI9jD"
      },
      "id": "yUEiDTwLI9jD"
    },
    {
      "cell_type": "code",
      "execution_count": null,
      "id": "b8cf35d8",
      "metadata": {
        "colab": {
          "base_uri": "https://localhost:8080/"
        },
        "id": "b8cf35d8",
        "outputId": "1713ff02-6801-41c9-b796-411f326c1384"
      },
      "outputs": [
        {
          "output_type": "stream",
          "name": "stdout",
          "text": [
            "                 Generalized Linear Model Regression Results                  \n",
            "==============================================================================\n",
            "Dep. Variable:               affluent   No. Observations:                14818\n",
            "Model:                            GLM   Df Residuals:                    14816\n",
            "Model Family:                Binomial   Df Model:                            1\n",
            "Link Function:                  logit   Scale:                          1.0000\n",
            "Method:                          IRLS   Log-Likelihood:                -8548.1\n",
            "Date:                Mon, 12 Dec 2022   Deviance:                       17096.\n",
            "Time:                        18:43:20   Pearson chi2:                 1.48e+04\n",
            "No. Iterations:                     5                                         \n",
            "Covariance Type:            nonrobust                                         \n",
            "==============================================================================\n",
            "                 coef    std err          z      P>|z|      [0.025      0.975]\n",
            "------------------------------------------------------------------------------\n",
            "const         -2.4622      0.213    -11.543      0.000      -2.880      -2.044\n",
            "ds_o3_pred     0.0391      0.006      6.809      0.000       0.028       0.050\n",
            "==============================================================================\n"
          ]
        },
        {
          "output_type": "stream",
          "name": "stderr",
          "text": [
            "/usr/local/lib/python3.8/dist-packages/statsmodels/tsa/tsatools.py:142: FutureWarning: In a future version of pandas all arguments of concat except for the argument 'objs' will be keyword-only\n",
            "  x = pd.concat(x[::order], 1)\n"
          ]
        }
      ],
      "source": [
        "#initializing logistic GLM and adding ozone as a constant to predict 0/1 binary feature affluent using a binomial family\n",
        "logistic_model = sm.GLM(\n",
        "    final_df.affluent, sm.add_constant(final_df.ds_o3_pred), \n",
        "    family=sm.families.Binomial()\n",
        ")\n",
        "#fitting the model and printing logistic results summary \n",
        "logistic_results = logistic_model.fit()\n",
        "print(logistic_results.summary())"
      ]
    },
    {
      "cell_type": "markdown",
      "source": [
        "Code for a fequentist GLM logistic model to predict affluent neighborhoods based on pm2.5 concentration predictions \n"
      ],
      "metadata": {
        "id": "KQEtC7vyJGYI"
      },
      "id": "KQEtC7vyJGYI"
    },
    {
      "cell_type": "code",
      "execution_count": null,
      "id": "00b8af0d",
      "metadata": {
        "colab": {
          "base_uri": "https://localhost:8080/"
        },
        "id": "00b8af0d",
        "outputId": "02c5c3b5-de5d-45fe-d82b-c8b22f135f68"
      },
      "outputs": [
        {
          "output_type": "stream",
          "name": "stdout",
          "text": [
            "                 Generalized Linear Model Regression Results                  \n",
            "==============================================================================\n",
            "Dep. Variable:               affluent   No. Observations:                14818\n",
            "Model:                            GLM   Df Residuals:                    14816\n",
            "Model Family:                Binomial   Df Model:                            1\n",
            "Link Function:                  logit   Scale:                          1.0000\n",
            "Method:                          IRLS   Log-Likelihood:                -8538.2\n",
            "Date:                Mon, 12 Dec 2022   Deviance:                       17076.\n",
            "Time:                        18:43:21   Pearson chi2:                 1.48e+04\n",
            "No. Iterations:                     5                                         \n",
            "Covariance Type:            nonrobust                                         \n",
            "==============================================================================\n",
            "                 coef    std err          z      P>|z|      [0.025      0.975]\n",
            "------------------------------------------------------------------------------\n",
            "const          0.1884      0.149      1.264      0.206      -0.104       0.481\n",
            "ds_pm_pred    -0.1165      0.014     -8.127      0.000      -0.145      -0.088\n",
            "==============================================================================\n"
          ]
        },
        {
          "output_type": "stream",
          "name": "stderr",
          "text": [
            "/usr/local/lib/python3.8/dist-packages/statsmodels/tsa/tsatools.py:142: FutureWarning: In a future version of pandas all arguments of concat except for the argument 'objs' will be keyword-only\n",
            "  x = pd.concat(x[::order], 1)\n"
          ]
        }
      ],
      "source": [
        "#initializing logistic GLM and adding pm2.5 pollutant as a constant to predict 0/1 binary feature affluent using a binomial family\n",
        "logistic_model = sm.GLM(\n",
        "    final_df.affluent, sm.add_constant(final_df.ds_pm_pred), \n",
        "    family=sm.families.Binomial()\n",
        ")\n",
        "#fitting the model and printing logistic results summary\n",
        "logistic_results = logistic_model.fit()\n",
        "print(logistic_results.summary())"
      ]
    },
    {
      "cell_type": "markdown",
      "source": [
        "Defining a funcition to create bootstrap samples of the estimates"
      ],
      "metadata": {
        "id": "q2rLcK56JhXn"
      },
      "id": "q2rLcK56JhXn"
    },
    {
      "cell_type": "code",
      "execution_count": null,
      "id": "6cb495bb",
      "metadata": {
        "id": "6cb495bb"
      },
      "outputs": [],
      "source": [
        "def bootstrap_xy(X, y, fnc, original_estimate=None, B=1000, plot=True):\n",
        "    \"\"\"\n",
        "    Uses bootstrap to generate multiple samples for estimates\n",
        "    of the provided function.\n",
        "    \"\"\"\n",
        "    d = X.shape[1]\n",
        "    N = X.shape[0]\n",
        "    w_hat = fnc(X, y)\n",
        "    w_boot = np.zeros(shape=(B,d))\n",
        "    for b in range(B):\n",
        "        # we need to choose x-y pairs, so start by picking indices\n",
        "        bootstrap_indices = np.random.choice(np.arange(N), N)\n",
        "        # then, use those indices to create a bootstrap sample\n",
        "        bootstrap_X = X.iloc[bootstrap_indices, :]\n",
        "        bootstrap_y = y.iloc[bootstrap_indices]\n",
        "        w_boot[b,:] = fnc(bootstrap_X, bootstrap_y)\n",
        "    if plot:\n",
        "        plt.scatter(w_boot[:,0], w_boot[:,1], c='b')\n",
        "        plt.scatter(w_hat[0], w_hat[1], c='r', marker='x', s=300)\n",
        "        if original_estimate:\n",
        "            plt.scatter(*original_estimate, c='g', marker='x', s=300)\n",
        "    return w_boot"
      ]
    },
    {
      "cell_type": "markdown",
      "source": [
        "Defining a function to aid with the bootstrap_xy funtion and create comparable estimates using a binomial model, to keep it consistent with the GLM family"
      ],
      "metadata": {
        "id": "pb03eVcvJnZg"
      },
      "id": "pb03eVcvJnZg"
    },
    {
      "cell_type": "code",
      "execution_count": null,
      "id": "f5f14136",
      "metadata": {
        "id": "f5f14136"
      },
      "outputs": [],
      "source": [
        "def binom_model(x, y): \n",
        "    model = sm.GLM(\n",
        "        y, x,\n",
        "        family=sm.families.Binomial()\n",
        "    )\n",
        "    results = model.fit()\n",
        "    #extracting beta for intercept and x val parameters for bootstrap\n",
        "    params = results.params\n",
        "    \n",
        "    return params"
      ]
    },
    {
      "cell_type": "markdown",
      "source": [
        "\n",
        "Running bootstrap code for pm2.5 pollutant concentrations with a binomial model "
      ],
      "metadata": {
        "id": "7SDQ7G3KJz5U"
      },
      "id": "7SDQ7G3KJz5U"
    },
    {
      "cell_type": "code",
      "execution_count": null,
      "id": "f05966db",
      "metadata": {
        "colab": {
          "base_uri": "https://localhost:8080/",
          "height": 369
        },
        "id": "f05966db",
        "outputId": "9cc64911-f3a0-4f59-b1b5-b83bb9984f83"
      },
      "outputs": [
        {
          "output_type": "stream",
          "name": "stderr",
          "text": [
            "/usr/local/lib/python3.8/dist-packages/statsmodels/tsa/tsatools.py:142: FutureWarning: In a future version of pandas all arguments of concat except for the argument 'objs' will be keyword-only\n",
            "  x = pd.concat(x[::order], 1)\n"
          ]
        },
        {
          "output_type": "execute_result",
          "data": {
            "text/plain": [
              "Text(0.5, 1.0, 'Logistic regression')"
            ]
          },
          "metadata": {},
          "execution_count": 34
        },
        {
          "output_type": "display_data",
          "data": {
            "text/plain": [
              "<Figure size 432x288 with 1 Axes>"
            ],
            "image/png": "[encoded data removed]"
          },
          "metadata": {
            "needs_background": "light"
          }
        }
      ],
      "source": [
        "#plugging in constant as pm2.5 pollutant concentration, and affluent as the predictor, with function as binomial model - mimic GLM from above\n",
        "w_binom_boot_pm = bootstrap_xy(sm.add_constant(final_df.ds_pm_pred), final_df.affluent, binom_model)\n",
        "#plot bootstrapped values of intercept to quantify possible uncertainty\n",
        "plt.xlabel('Intercept')\n",
        "plt.ylabel('Coefficient for pm 2.5 prediction')\n",
        "plt.title('Logistic regression')"
      ]
    },
    {
      "cell_type": "markdown",
      "source": [
        "Running bootstrap code for ozone concentrations with a binomial model "
      ],
      "metadata": {
        "id": "4fheVY2_J8Lf"
      },
      "id": "4fheVY2_J8Lf"
    },
    {
      "cell_type": "code",
      "execution_count": null,
      "id": "44b5840b",
      "metadata": {
        "colab": {
          "base_uri": "https://localhost:8080/",
          "height": 313
        },
        "id": "44b5840b",
        "outputId": "22a93eb6-1ae3-4b57-f3e3-dbb8422590a4"
      },
      "outputs": [
        {
          "output_type": "execute_result",
          "data": {
            "text/plain": [
              "Text(0.5, 1.0, 'Logistic regression')"
            ]
          },
          "metadata": {},
          "execution_count": 35
        },
        {
          "output_type": "display_data",
          "data": {
            "text/plain": [
              "<Figure size 432x288 with 1 Axes>"
            ],
            "image/png": "[encoded data removed]"
          },
          "metadata": {
            "needs_background": "light"
          }
        }
      ],
      "source": [
        "#plugging in constant as ozone concentration, and affluent as the predictor, with function as binomial model - mimic GLM from above\n",
        "w_binom_boot_o3 = bootstrap_xy(sm.add_constant(final_df.ds_o3_pred), final_df.affluent, binom_model)\n",
        "#plot bootstrapped values of intercept to quantify possible uncertainty\n",
        "plt.xlabel('Intercept')\n",
        "plt.ylabel('Coefficient for ozone prediction')\n",
        "plt.title('Logistic regression')"
      ]
    },
    {
      "cell_type": "markdown",
      "source": [
        "Printing out beta (coefficient values) for intercept and pm2.5 concentrations for affluent predictors through bootstrap samples standard deviation (to extract standard error)"
      ],
      "metadata": {
        "id": "mN2AthHNYP99"
      },
      "id": "mN2AthHNYP99"
    },
    {
      "cell_type": "code",
      "execution_count": null,
      "id": "b833fd05",
      "metadata": {
        "colab": {
          "base_uri": "https://localhost:8080/"
        },
        "id": "b833fd05",
        "outputId": "343e35d5-c831-451e-d296-5c669f616049"
      },
      "outputs": [
        {
          "output_type": "stream",
          "name": "stdout",
          "text": [
            "Bootstrap std error for intercept: 0.141\n",
            "Bootstrap std error for pm2.5 coeff: 0.013\n"
          ]
        }
      ],
      "source": [
        "#beta 0 represents intercept, beta 1 represents pm2.5\n",
        "beta_0, beta_1 = w_binom_boot_pm.std(axis = 0)\n",
        "print(f\"Bootstrap std error for intercept: {beta_0:.3f}\")\n",
        "print(f\"Bootstrap std error for pm2.5 coeff: {beta_1:.3f}\")"
      ]
    },
    {
      "cell_type": "markdown",
      "source": [
        "Printing out beta (coefficient values) for intercept and ozone concentrations for affluent predictors through bootstrap samples standard deviation (to extract standard error)"
      ],
      "metadata": {
        "id": "VLniIzzDYhkH"
      },
      "id": "VLniIzzDYhkH"
    },
    {
      "cell_type": "code",
      "execution_count": null,
      "id": "b524dd12",
      "metadata": {
        "colab": {
          "base_uri": "https://localhost:8080/"
        },
        "id": "b524dd12",
        "outputId": "c9b18d6f-0746-4a25-fc45-52ad200349c5"
      },
      "outputs": [
        {
          "output_type": "stream",
          "name": "stdout",
          "text": [
            "Bootstrap std error for intercept: 0.219\n",
            "Bootstrap std error for ozone coeff: 0.006\n"
          ]
        }
      ],
      "source": [
        "#beta 0 represents intercept, beta 1 represents ozone\n",
        "beta_0, beta_1 = w_binom_boot_o3.std(axis = 0)\n",
        "print(f\"Bootstrap std error for intercept: {beta_0:.3f}\")\n",
        "print(f\"Bootstrap std error for ozone coeff: {beta_1:.3f}\")"
      ]
    },
    {
      "cell_type": "markdown",
      "id": "ec96c7c1",
      "metadata": {
        "id": "ec96c7c1"
      },
      "source": [
        "**Bayesian**"
      ]
    },
    {
      "cell_type": "code",
      "execution_count": null,
      "id": "ade4eb87",
      "metadata": {
        "colab": {
          "base_uri": "https://localhost:8080/",
          "height": 113
        },
        "id": "ade4eb87",
        "outputId": "e7349809-2bcf-4e51-d857-e72f53fc20cc"
      },
      "outputs": [
        {
          "output_type": "stream",
          "name": "stderr",
          "text": [
            "/usr/local/lib/python3.8/dist-packages/deprecat/classic.py:215: FutureWarning: In v4.0, pm.sample will return an `arviz.InferenceData` object instead of a `MultiTrace` by default. You can pass return_inferencedata=True or return_inferencedata=False to be safe and silence this warning.\n",
            "  return wrapped_(*args_, **kwargs_)\n"
          ]
        },
        {
          "output_type": "display_data",
          "data": {
            "text/plain": [
              "<IPython.core.display.HTML object>"
            ],
            "text/html": [
              "\n",
              "<style>\n",
              "    /* Turns off some styling */\n",
              "    progress {\n",
              "        /* gets rid of default border in Firefox and Opera. */\n",
              "        border: none;\n",
              "        /* Needs to be in here for Safari polyfill so background images work as expected. */\n",
              "        background-size: auto;\n",
              "    }\n",
              "    progress:not([value]), progress:not([value])::-webkit-progress-bar {\n",
              "        background: repeating-linear-gradient(45deg, #7e7e7e, #7e7e7e 10px, #5c5c5c 10px, #5c5c5c 20px);\n",
              "    }\n",
              "    .progress-bar-interrupted, .progress-bar-interrupted::-webkit-progress-bar {\n",
              "        background: #F44336;\n",
              "    }\n",
              "</style>\n"
            ]
          },
          "metadata": {}
        },
        {
          "output_type": "display_data",
          "data": {
            "text/plain": [
              "<IPython.core.display.HTML object>"
            ],
            "text/html": [
              "\n",
              "    <div>\n",
              "      <progress value='2000' class='' max='2000' style='width:300px; height:20px; vertical-align: middle;'></progress>\n",
              "      100.00% [2000/2000 00:18&lt;00:00 Sampling chain 0, 0 divergences]\n",
              "    </div>\n",
              "    "
            ]
          },
          "metadata": {}
        },
        {
          "output_type": "display_data",
          "data": {
            "text/plain": [
              "<IPython.core.display.HTML object>"
            ],
            "text/html": [
              "\n",
              "<style>\n",
              "    /* Turns off some styling */\n",
              "    progress {\n",
              "        /* gets rid of default border in Firefox and Opera. */\n",
              "        border: none;\n",
              "        /* Needs to be in here for Safari polyfill so background images work as expected. */\n",
              "        background-size: auto;\n",
              "    }\n",
              "    progress:not([value]), progress:not([value])::-webkit-progress-bar {\n",
              "        background: repeating-linear-gradient(45deg, #7e7e7e, #7e7e7e 10px, #5c5c5c 10px, #5c5c5c 20px);\n",
              "    }\n",
              "    .progress-bar-interrupted, .progress-bar-interrupted::-webkit-progress-bar {\n",
              "        background: #F44336;\n",
              "    }\n",
              "</style>\n"
            ]
          },
          "metadata": {}
        },
        {
          "output_type": "display_data",
          "data": {
            "text/plain": [
              "<IPython.core.display.HTML object>"
            ],
            "text/html": [
              "\n",
              "    <div>\n",
              "      <progress value='2000' class='' max='2000' style='width:300px; height:20px; vertical-align: middle;'></progress>\n",
              "      100.00% [2000/2000 00:16&lt;00:00 Sampling chain 1, 0 divergences]\n",
              "    </div>\n",
              "    "
            ]
          },
          "metadata": {}
        }
      ],
      "source": [
        "#response variable y is whether a neighborhood is \"affluent\" or not\n",
        "y_simple = final_df['affluent']\n",
        "#response variable x is PM2.5 concentration\n",
        "x_0 = final_df['ds_pm_pred'].values\n",
        "x_c = x_0 - x_0.mean()\n",
        "\n",
        "#simple model to conduct posterior predictive check\n",
        "with pm.Model() as model_simple:\n",
        "  #prior - α and β have normal distribution\n",
        "    α = pm.Normal('α', mu = 0, sd = 10)\n",
        "    β = pm.Normal('β', mu = 0, sd = 10)\n",
        "    \n",
        "    μ = α + pm.math.dot(x_c, β)    \n",
        "    θ = pm.Deterministic('θ', pm.math.sigmoid(μ))\n",
        "    \n",
        "    y_1 = pm.Bernoulli('y_1', p = θ, observed = y_simple)\n",
        "\n",
        "    trace_simple = pm.sample(1000, tune = 1000, cores=-1)"
      ]
    },
    {
      "cell_type": "code",
      "execution_count": null,
      "id": "ff28f3bd",
      "metadata": {
        "colab": {
          "base_uri": "https://localhost:8080/",
          "height": 186
        },
        "id": "ff28f3bd",
        "outputId": "568d1440-ddd1-44c1-eb58-afa519db8116"
      },
      "outputs": [
        {
          "output_type": "stream",
          "name": "stderr",
          "text": [
            "ERROR:arviz.data.io_pymc3_3x:Got error No model on context stack. trying to find log_likelihood in translation.\n",
            "/usr/local/lib/python3.8/dist-packages/arviz/data/io_pymc3_3x.py:98: FutureWarning: Using `from_pymc3` without the model will be deprecated in a future release. Not using the model will return less accurate and less useful results. Make sure you use the model argument or call from_pymc3 within a model context.\n",
            "  warnings.warn(\n"
          ]
        },
        {
          "output_type": "execute_result",
          "data": {
            "text/plain": [
              "    mean     sd  hdi_3%  hdi_97%  mcse_mean  mcse_sd  ess_bulk  ess_tail  \\\n",
              "α -1.025  0.019  -1.060   -0.992        0.0      0.0    1622.0    1342.0   \n",
              "β -0.116  0.015  -0.141   -0.088        0.0      0.0    1989.0    1464.0   \n",
              "\n",
              "   r_hat  \n",
              "α    1.0  \n",
              "β    1.0  "
            ],
            "text/html": [
              "\n",
              "  <div id=\"df-4e957545-79c1-43f3-b9e1-362791d648e0\">\n",
              "    <div class=\"colab-df-container\">\n",
              "      <div>\n",
              "<style scoped>\n",
              "    .dataframe tbody tr th:only-of-type {\n",
              "        vertical-align: middle;\n",
              "    }\n",
              "\n",
              "    .dataframe tbody tr th {\n",
              "        vertical-align: top;\n",
              "    }\n",
              "\n",
              "    .dataframe thead th {\n",
              "        text-align: right;\n",
              "    }\n",
              "</style>\n",
              "<table border=\"1\" class=\"dataframe\">\n",
              "  <thead>\n",
              "    <tr style=\"text-align: right;\">\n",
              "      <th></th>\n",
              "      <th>mean</th>\n",
              "      <th>sd</th>\n",
              "      <th>hdi_3%</th>\n",
              "      <th>hdi_97%</th>\n",
              "      <th>mcse_mean</th>\n",
              "      <th>mcse_sd</th>\n",
              "      <th>ess_bulk</th>\n",
              "      <th>ess_tail</th>\n",
              "      <th>r_hat</th>\n",
              "    </tr>\n",
              "  </thead>\n",
              "  <tbody>\n",
              "    <tr>\n",
              "      <th>α</th>\n",
              "      <td>-1.025</td>\n",
              "      <td>0.019</td>\n",
              "      <td>-1.060</td>\n",
              "      <td>-0.992</td>\n",
              "      <td>0.0</td>\n",
              "      <td>0.0</td>\n",
              "      <td>1622.0</td>\n",
              "      <td>1342.0</td>\n",
              "      <td>1.0</td>\n",
              "    </tr>\n",
              "    <tr>\n",
              "      <th>β</th>\n",
              "      <td>-0.116</td>\n",
              "      <td>0.015</td>\n",
              "      <td>-0.141</td>\n",
              "      <td>-0.088</td>\n",
              "      <td>0.0</td>\n",
              "      <td>0.0</td>\n",
              "      <td>1989.0</td>\n",
              "      <td>1464.0</td>\n",
              "      <td>1.0</td>\n",
              "    </tr>\n",
              "  </tbody>\n",
              "</table>\n",
              "</div>\n",
              "      <button class=\"colab-df-convert\" onclick=\"convertToInteractive('df-4e957545-79c1-43f3-b9e1-362791d648e0')\"\n",
              "              title=\"Convert this dataframe to an interactive table.\"\n",
              "              style=\"display:none;\">\n",
              "        \n",
              "  <svg xmlns=\"http://www.w3.org/2000/svg\" height=\"24px\"viewBox=\"0 0 24 24\"\n",
              "       width=\"24px\">\n",
              "    <path d=\"M0 0h24v24H0V0z\" fill=\"none\"/>\n",
              "    <path d=\"M18.56 5.44l.94 2.06.94-2.06 2.06-.94-2.06-.94-.94-2.06-.94 2.06-2.06.94zm-11 1L8.5 8.5l.94-2.06 2.06-.94-2.06-.94L8.5 2.5l-.94 2.06-2.06.94zm10 10l.94 2.06.94-2.06 2.06-.94-2.06-.94-.94-2.06-.94 2.06-2.06.94z\"/><path d=\"M17.41 7.96l-1.37-1.37c-.4-.4-.92-.59-1.43-.59-.52 0-1.04.2-1.43.59L10.3 9.45l-7.72 7.72c-.78.78-.78 2.05 0 2.83L4 21.41c.39.39.9.59 1.41.59.51 0 1.02-.2 1.41-.59l7.78-7.78 2.81-2.81c.8-.78.8-2.07 0-2.86zM5.41 20L4 18.59l7.72-7.72 1.47 1.35L5.41 20z\"/>\n",
              "  </svg>\n",
              "      </button>\n",
              "      \n",
              "  <style>\n",
              "    .colab-df-container {\n",
              "      display:flex;\n",
              "      flex-wrap:wrap;\n",
              "      gap: 12px;\n",
              "    }\n",
              "\n",
              "    .colab-df-convert {\n",
              "      background-color: #E8F0FE;\n",
              "      border: none;\n",
              "      border-radius: 50%;\n",
              "      cursor: pointer;\n",
              "      display: none;\n",
              "      fill: #1967D2;\n",
              "      height: 32px;\n",
              "      padding: 0 0 0 0;\n",
              "      width: 32px;\n",
              "    }\n",
              "\n",
              "    .colab-df-convert:hover {\n",
              "      background-color: #E2EBFA;\n",
              "      box-shadow: 0px 1px 2px rgba(60, 64, 67, 0.3), 0px 1px 3px 1px rgba(60, 64, 67, 0.15);\n",
              "      fill: #174EA6;\n",
              "    }\n",
              "\n",
              "    [theme=dark] .colab-df-convert {\n",
              "      background-color: #3B4455;\n",
              "      fill: #D2E3FC;\n",
              "    }\n",
              "\n",
              "    [theme=dark] .colab-df-convert:hover {\n",
              "      background-color: #434B5C;\n",
              "      box-shadow: 0px 1px 3px 1px rgba(0, 0, 0, 0.15);\n",
              "      filter: drop-shadow(0px 1px 2px rgba(0, 0, 0, 0.3));\n",
              "      fill: #FFFFFF;\n",
              "    }\n",
              "  </style>\n",
              "\n",
              "      <script>\n",
              "        const buttonEl =\n",
              "          document.querySelector('#df-4e957545-79c1-43f3-b9e1-362791d648e0 button.colab-df-convert');\n",
              "        buttonEl.style.display =\n",
              "          google.colab.kernel.accessAllowed ? 'block' : 'none';\n",
              "\n",
              "        async function convertToInteractive(key) {\n",
              "          const element = document.querySelector('#df-4e957545-79c1-43f3-b9e1-362791d648e0');\n",
              "          const dataTable =\n",
              "            await google.colab.kernel.invokeFunction('convertToInteractive',\n",
              "                                                     [key], {});\n",
              "          if (!dataTable) return;\n",
              "\n",
              "          const docLinkHtml = 'Like what you see? Visit the ' +\n",
              "            '<a target=\"_blank\" href=https://colab.research.google.com/notebooks/data_table.ipynb>data table notebook</a>'\n",
              "            + ' to learn more about interactive tables.';\n",
              "          element.innerHTML = '';\n",
              "          dataTable['output_type'] = 'display_data';\n",
              "          await google.colab.output.renderOutput(dataTable, element);\n",
              "          const docLink = document.createElement('div');\n",
              "          docLink.innerHTML = docLinkHtml;\n",
              "          element.appendChild(docLink);\n",
              "        }\n",
              "      </script>\n",
              "    </div>\n",
              "  </div>\n",
              "  "
            ]
          },
          "metadata": {},
          "execution_count": 39
        }
      ],
      "source": [
        "#summary of variables α and β for the simple Bayesian GLM\n",
        "import arviz as az\n",
        "az.summary(trace_simple, var_names=['α', 'β'])"
      ]
    },
    {
      "cell_type": "code",
      "execution_count": null,
      "id": "8c7c23ed",
      "metadata": {
        "colab": {
          "base_uri": "https://localhost:8080/",
          "height": 111
        },
        "id": "8c7c23ed",
        "outputId": "81ef0813-c214-42d7-cd33-668410fa61e9"
      },
      "outputs": [
        {
          "output_type": "stream",
          "name": "stderr",
          "text": [
            "/usr/local/lib/python3.8/dist-packages/pymc3/sampling.py:1708: UserWarning: samples parameter is smaller than nchains times ndraws, some draws and/or chains may not be represented in the returned posterior predictive sample\n",
            "  warnings.warn(\n"
          ]
        },
        {
          "output_type": "display_data",
          "data": {
            "text/plain": [
              "<IPython.core.display.HTML object>"
            ],
            "text/html": [
              "\n",
              "<style>\n",
              "    /* Turns off some styling */\n",
              "    progress {\n",
              "        /* gets rid of default border in Firefox and Opera. */\n",
              "        border: none;\n",
              "        /* Needs to be in here for Safari polyfill so background images work as expected. */\n",
              "        background-size: auto;\n",
              "    }\n",
              "    progress:not([value]), progress:not([value])::-webkit-progress-bar {\n",
              "        background: repeating-linear-gradient(45deg, #7e7e7e, #7e7e7e 10px, #5c5c5c 10px, #5c5c5c 20px);\n",
              "    }\n",
              "    .progress-bar-interrupted, .progress-bar-interrupted::-webkit-progress-bar {\n",
              "        background: #F44336;\n",
              "    }\n",
              "</style>\n"
            ]
          },
          "metadata": {}
        },
        {
          "output_type": "display_data",
          "data": {
            "text/plain": [
              "<IPython.core.display.HTML object>"
            ],
            "text/html": [
              "\n",
              "    <div>\n",
              "      <progress value='500' class='' max='500' style='width:300px; height:20px; vertical-align: middle;'></progress>\n",
              "      100.00% [500/500 00:01&lt;00:00]\n",
              "    </div>\n",
              "    "
            ]
          },
          "metadata": {}
        },
        {
          "output_type": "stream",
          "name": "stdout",
          "text": [
            "Accuracy of the logistic model: 0.734782021865299\n"
          ]
        }
      ],
      "source": [
        "from sklearn.metrics import accuracy_score, f1_score, confusion_matrix\n",
        "\n",
        "#posterior predictive check for simple model\n",
        "ppc = pm.sample_posterior_predictive(trace_simple, model = model_simple, samples = 500)\n",
        "preds = np.rint(ppc['y_1'].mean(axis = 0)).astype('int')\n",
        "print('Accuracy of the logistic model:', accuracy_score(preds, final_df['affluent']))"
      ]
    },
    {
      "cell_type": "code",
      "execution_count": null,
      "id": "0a8baee9",
      "metadata": {
        "colab": {
          "base_uri": "https://localhost:8080/",
          "height": 184
        },
        "id": "0a8baee9",
        "outputId": "3740b73e-55a7-447f-a67c-bf557ad0b496"
      },
      "outputs": [
        {
          "output_type": "stream",
          "name": "stderr",
          "text": [
            "WARNING:pymc3:The glm module is deprecated and will be removed in version 4.0\n",
            "We recommend to instead use Bambi https://bambinos.github.io/bambi/\n",
            "WARNING:theano.tensor.blas:We did not find a dynamic library in the library_dir of the library we use for blas. If you use ATLAS, make sure to compile it with dynamics library.\n",
            "WARNING:theano.tensor.blas:We did not find a dynamic library in the library_dir of the library we use for blas. If you use ATLAS, make sure to compile it with dynamics library.\n",
            "/usr/local/lib/python3.8/dist-packages/deprecat/classic.py:215: FutureWarning: In v4.0, pm.sample will return an `arviz.InferenceData` object instead of a `MultiTrace` by default. You can pass return_inferencedata=True or return_inferencedata=False to be safe and silence this warning.\n",
            "  return wrapped_(*args_, **kwargs_)\n"
          ]
        },
        {
          "output_type": "display_data",
          "data": {
            "text/plain": [
              "<IPython.core.display.HTML object>"
            ],
            "text/html": [
              "\n",
              "<style>\n",
              "    /* Turns off some styling */\n",
              "    progress {\n",
              "        /* gets rid of default border in Firefox and Opera. */\n",
              "        border: none;\n",
              "        /* Needs to be in here for Safari polyfill so background images work as expected. */\n",
              "        background-size: auto;\n",
              "    }\n",
              "    progress:not([value]), progress:not([value])::-webkit-progress-bar {\n",
              "        background: repeating-linear-gradient(45deg, #7e7e7e, #7e7e7e 10px, #5c5c5c 10px, #5c5c5c 20px);\n",
              "    }\n",
              "    .progress-bar-interrupted, .progress-bar-interrupted::-webkit-progress-bar {\n",
              "        background: #F44336;\n",
              "    }\n",
              "</style>\n"
            ]
          },
          "metadata": {}
        },
        {
          "output_type": "display_data",
          "data": {
            "text/plain": [
              "<IPython.core.display.HTML object>"
            ],
            "text/html": [
              "\n",
              "    <div>\n",
              "      <progress value='2000' class='' max='2000' style='width:300px; height:20px; vertical-align: middle;'></progress>\n",
              "      100.00% [2000/2000 03:59&lt;00:00 Sampling chain 0, 0 divergences]\n",
              "    </div>\n",
              "    "
            ]
          },
          "metadata": {}
        },
        {
          "output_type": "display_data",
          "data": {
            "text/plain": [
              "<IPython.core.display.HTML object>"
            ],
            "text/html": [
              "\n",
              "<style>\n",
              "    /* Turns off some styling */\n",
              "    progress {\n",
              "        /* gets rid of default border in Firefox and Opera. */\n",
              "        border: none;\n",
              "        /* Needs to be in here for Safari polyfill so background images work as expected. */\n",
              "        background-size: auto;\n",
              "    }\n",
              "    progress:not([value]), progress:not([value])::-webkit-progress-bar {\n",
              "        background: repeating-linear-gradient(45deg, #7e7e7e, #7e7e7e 10px, #5c5c5c 10px, #5c5c5c 20px);\n",
              "    }\n",
              "    .progress-bar-interrupted, .progress-bar-interrupted::-webkit-progress-bar {\n",
              "        background: #F44336;\n",
              "    }\n",
              "</style>\n"
            ]
          },
          "metadata": {}
        },
        {
          "output_type": "display_data",
          "data": {
            "text/plain": [
              "<IPython.core.display.HTML object>"
            ],
            "text/html": [
              "\n",
              "    <div>\n",
              "      <progress value='2000' class='' max='2000' style='width:300px; height:20px; vertical-align: middle;'></progress>\n",
              "      100.00% [2000/2000 03:53&lt;00:00 Sampling chain 1, 0 divergences]\n",
              "    </div>\n",
              "    "
            ]
          },
          "metadata": {}
        }
      ],
      "source": [
        "#advanced Bayesian GLM\n",
        "with pm.Model() as logistic_model:\n",
        "    # specify glm and pass in data\n",
        "    pm.glm.GLM.from_formula(\"affluent ~ ds_pm_pred + ds_o3_pred\", final_df, family=pm.glm.families.Binomial())\n",
        "    # draw posterior samples using NUTS sampling\n",
        "    trace = pm.sample(1000, tune=1000, init=\"adapt_diag\",cores=-1)"
      ]
    },
    {
      "cell_type": "code",
      "execution_count": null,
      "id": "75bd0ba0",
      "metadata": {
        "id": "75bd0ba0"
      },
      "outputs": [],
      "source": [
        "#function to plot intercepts as well as uncertainty of each of these values \n",
        "def plot_traces(traces, model, retain=0):\n",
        "    \"\"\"\n",
        "    Convenience function:\n",
        "    Plot traces with overlaid means and values\n",
        "    \"\"\"\n",
        "    with model:\n",
        "        ax = az.plot_trace(\n",
        "            traces[-retain:],\n",
        "            lines=tuple([(k, {}, v[\"mean\"]) for k, v in az.summary(traces[-retain:]).iterrows()]),\n",
        "        )\n",
        "\n",
        "        for i, mn in enumerate(az.summary(traces[-retain:])[\"mean\"]):\n",
        "            ax[i, 0].annotate(\n",
        "                f\"{mn:.2f}\",\n",
        "                xy=(mn, 0),\n",
        "                xycoords=\"data\",\n",
        "                xytext=(15, 10),\n",
        "                textcoords=\"offset points\",\n",
        "                rotation=90,\n",
        "                va=\"bottom\",\n",
        "                fontsize=\"large\",\n",
        "                color=\"#AA0022\",\n",
        "            )"
      ]
    },
    {
      "cell_type": "code",
      "execution_count": null,
      "id": "c29eba3c",
      "metadata": {
        "colab": {
          "base_uri": "https://localhost:8080/",
          "height": 388
        },
        "id": "c29eba3c",
        "outputId": "5122e407-eaae-448d-a56f-6491db65e760"
      },
      "outputs": [
        {
          "output_type": "display_data",
          "data": {
            "text/plain": [
              "<Figure size 864x432 with 6 Axes>"
            ],
            "image/png": "[encoded data removed]"
          },
          "metadata": {
            "needs_background": "light"
          }
        }
      ],
      "source": [
        "plot_traces(trace, logistic_model);"
      ]
    },
    {
      "cell_type": "code",
      "execution_count": null,
      "id": "445e1110",
      "metadata": {
        "colab": {
          "base_uri": "https://localhost:8080/",
          "height": 530
        },
        "id": "445e1110",
        "outputId": "81a8a2f9-22e7-4a3e-8df2-607b4c919138"
      },
      "outputs": [
        {
          "output_type": "stream",
          "name": "stderr",
          "text": [
            "/usr/local/lib/python3.8/dist-packages/seaborn/_decorators.py:36: FutureWarning: Pass the following variables as keyword args: x, y. From version 0.12, the only valid positional argument will be `data`, and passing other arguments without an explicit keyword will result in an error or misinterpretation.\n",
            "  warnings.warn(\n"
          ]
        },
        {
          "output_type": "display_data",
          "data": {
            "text/plain": [
              "<Figure size 648x504 with 0 Axes>"
            ]
          },
          "metadata": {}
        },
        {
          "output_type": "display_data",
          "data": {
            "text/plain": [
              "<Figure size 432x432 with 3 Axes>"
            ],
            "image/png": "[encoded data removed]"
          },
          "metadata": {
            "needs_background": "light"
          }
        }
      ],
      "source": [
        "#hexplot of PM2.5 concentrations and Ozone concentrations across all neighborhood grades\n",
        "plt.figure(figsize=(9, 7))\n",
        "sns.jointplot(trace[\"ds_pm_pred\"], trace[\"ds_o3_pred\"], kind=\"hex\", color=\"#4CB391\")\n",
        "plt.xlabel(\"pm_pred\")\n",
        "plt.ylabel(\"o3_pred\");"
      ]
    },
    {
      "cell_type": "code",
      "execution_count": null,
      "id": "7d92b037",
      "metadata": {
        "colab": {
          "base_uri": "https://localhost:8080/",
          "height": 217
        },
        "id": "7d92b037",
        "outputId": "211119cf-e020-496f-c5af-59e96626d54c"
      },
      "outputs": [
        {
          "output_type": "stream",
          "name": "stderr",
          "text": [
            "ERROR:arviz.data.io_pymc3_3x:Got error No model on context stack. trying to find log_likelihood in translation.\n",
            "/usr/local/lib/python3.8/dist-packages/arviz/data/io_pymc3_3x.py:98: FutureWarning: Using `from_pymc3` without the model will be deprecated in a future release. Not using the model will return less accurate and less useful results. Make sure you use the model argument or call from_pymc3 within a model context.\n",
            "  warnings.warn(\n"
          ]
        },
        {
          "output_type": "execute_result",
          "data": {
            "text/plain": [
              "             mean     sd  hdi_3%  hdi_97%  mcse_mean  mcse_sd  ess_bulk  \\\n",
              "Intercept  -1.337  0.251  -1.806   -0.888      0.009    0.007     740.0   \n",
              "ds_pm_pred -0.128  0.015  -0.155   -0.100      0.001    0.000     846.0   \n",
              "ds_o3_pred  0.044  0.006   0.034    0.055      0.000    0.000     784.0   \n",
              "\n",
              "            ess_tail  r_hat  \n",
              "Intercept      745.0   1.00  \n",
              "ds_pm_pred     842.0   1.00  \n",
              "ds_o3_pred     867.0   1.01  "
            ],
            "text/html": [
              "\n",
              "  <div id=\"df-1dbe6cd3-498f-47c9-a5f1-1a7b0f442d59\">\n",
              "    <div class=\"colab-df-container\">\n",
              "      <div>\n",
              "<style scoped>\n",
              "    .dataframe tbody tr th:only-of-type {\n",
              "        vertical-align: middle;\n",
              "    }\n",
              "\n",
              "    .dataframe tbody tr th {\n",
              "        vertical-align: top;\n",
              "    }\n",
              "\n",
              "    .dataframe thead th {\n",
              "        text-align: right;\n",
              "    }\n",
              "</style>\n",
              "<table border=\"1\" class=\"dataframe\">\n",
              "  <thead>\n",
              "    <tr style=\"text-align: right;\">\n",
              "      <th></th>\n",
              "      <th>mean</th>\n",
              "      <th>sd</th>\n",
              "      <th>hdi_3%</th>\n",
              "      <th>hdi_97%</th>\n",
              "      <th>mcse_mean</th>\n",
              "      <th>mcse_sd</th>\n",
              "      <th>ess_bulk</th>\n",
              "      <th>ess_tail</th>\n",
              "      <th>r_hat</th>\n",
              "    </tr>\n",
              "  </thead>\n",
              "  <tbody>\n",
              "    <tr>\n",
              "      <th>Intercept</th>\n",
              "      <td>-1.337</td>\n",
              "      <td>0.251</td>\n",
              "      <td>-1.806</td>\n",
              "      <td>-0.888</td>\n",
              "      <td>0.009</td>\n",
              "      <td>0.007</td>\n",
              "      <td>740.0</td>\n",
              "      <td>745.0</td>\n",
              "      <td>1.00</td>\n",
              "    </tr>\n",
              "    <tr>\n",
              "      <th>ds_pm_pred</th>\n",
              "      <td>-0.128</td>\n",
              "      <td>0.015</td>\n",
              "      <td>-0.155</td>\n",
              "      <td>-0.100</td>\n",
              "      <td>0.001</td>\n",
              "      <td>0.000</td>\n",
              "      <td>846.0</td>\n",
              "      <td>842.0</td>\n",
              "      <td>1.00</td>\n",
              "    </tr>\n",
              "    <tr>\n",
              "      <th>ds_o3_pred</th>\n",
              "      <td>0.044</td>\n",
              "      <td>0.006</td>\n",
              "      <td>0.034</td>\n",
              "      <td>0.055</td>\n",
              "      <td>0.000</td>\n",
              "      <td>0.000</td>\n",
              "      <td>784.0</td>\n",
              "      <td>867.0</td>\n",
              "      <td>1.01</td>\n",
              "    </tr>\n",
              "  </tbody>\n",
              "</table>\n",
              "</div>\n",
              "      <button class=\"colab-df-convert\" onclick=\"convertToInteractive('df-1dbe6cd3-498f-47c9-a5f1-1a7b0f442d59')\"\n",
              "              title=\"Convert this dataframe to an interactive table.\"\n",
              "              style=\"display:none;\">\n",
              "        \n",
              "  <svg xmlns=\"http://www.w3.org/2000/svg\" height=\"24px\"viewBox=\"0 0 24 24\"\n",
              "       width=\"24px\">\n",
              "    <path d=\"M0 0h24v24H0V0z\" fill=\"none\"/>\n",
              "    <path d=\"M18.56 5.44l.94 2.06.94-2.06 2.06-.94-2.06-.94-.94-2.06-.94 2.06-2.06.94zm-11 1L8.5 8.5l.94-2.06 2.06-.94-2.06-.94L8.5 2.5l-.94 2.06-2.06.94zm10 10l.94 2.06.94-2.06 2.06-.94-2.06-.94-.94-2.06-.94 2.06-2.06.94z\"/><path d=\"M17.41 7.96l-1.37-1.37c-.4-.4-.92-.59-1.43-.59-.52 0-1.04.2-1.43.59L10.3 9.45l-7.72 7.72c-.78.78-.78 2.05 0 2.83L4 21.41c.39.39.9.59 1.41.59.51 0 1.02-.2 1.41-.59l7.78-7.78 2.81-2.81c.8-.78.8-2.07 0-2.86zM5.41 20L4 18.59l7.72-7.72 1.47 1.35L5.41 20z\"/>\n",
              "  </svg>\n",
              "      </button>\n",
              "      \n",
              "  <style>\n",
              "    .colab-df-container {\n",
              "      display:flex;\n",
              "      flex-wrap:wrap;\n",
              "      gap: 12px;\n",
              "    }\n",
              "\n",
              "    .colab-df-convert {\n",
              "      background-color: #E8F0FE;\n",
              "      border: none;\n",
              "      border-radius: 50%;\n",
              "      cursor: pointer;\n",
              "      display: none;\n",
              "      fill: #1967D2;\n",
              "      height: 32px;\n",
              "      padding: 0 0 0 0;\n",
              "      width: 32px;\n",
              "    }\n",
              "\n",
              "    .colab-df-convert:hover {\n",
              "      background-color: #E2EBFA;\n",
              "      box-shadow: 0px 1px 2px rgba(60, 64, 67, 0.3), 0px 1px 3px 1px rgba(60, 64, 67, 0.15);\n",
              "      fill: #174EA6;\n",
              "    }\n",
              "\n",
              "    [theme=dark] .colab-df-convert {\n",
              "      background-color: #3B4455;\n",
              "      fill: #D2E3FC;\n",
              "    }\n",
              "\n",
              "    [theme=dark] .colab-df-convert:hover {\n",
              "      background-color: #434B5C;\n",
              "      box-shadow: 0px 1px 3px 1px rgba(0, 0, 0, 0.15);\n",
              "      filter: drop-shadow(0px 1px 2px rgba(0, 0, 0, 0.3));\n",
              "      fill: #FFFFFF;\n",
              "    }\n",
              "  </style>\n",
              "\n",
              "      <script>\n",
              "        const buttonEl =\n",
              "          document.querySelector('#df-1dbe6cd3-498f-47c9-a5f1-1a7b0f442d59 button.colab-df-convert');\n",
              "        buttonEl.style.display =\n",
              "          google.colab.kernel.accessAllowed ? 'block' : 'none';\n",
              "\n",
              "        async function convertToInteractive(key) {\n",
              "          const element = document.querySelector('#df-1dbe6cd3-498f-47c9-a5f1-1a7b0f442d59');\n",
              "          const dataTable =\n",
              "            await google.colab.kernel.invokeFunction('convertToInteractive',\n",
              "                                                     [key], {});\n",
              "          if (!dataTable) return;\n",
              "\n",
              "          const docLinkHtml = 'Like what you see? Visit the ' +\n",
              "            '<a target=\"_blank\" href=https://colab.research.google.com/notebooks/data_table.ipynb>data table notebook</a>'\n",
              "            + ' to learn more about interactive tables.';\n",
              "          element.innerHTML = '';\n",
              "          dataTable['output_type'] = 'display_data';\n",
              "          await google.colab.output.renderOutput(dataTable, element);\n",
              "          const docLink = document.createElement('div');\n",
              "          docLink.innerHTML = docLinkHtml;\n",
              "          element.appendChild(docLink);\n",
              "        }\n",
              "      </script>\n",
              "    </div>\n",
              "  </div>\n",
              "  "
            ]
          },
          "metadata": {},
          "execution_count": 45
        }
      ],
      "source": [
        "#summary of intercepts and coefficients of the advanced Bayesiam GLM\n",
        "pm.summary(trace)"
      ]
    },
    {
      "cell_type": "code",
      "execution_count": null,
      "id": "842438c4",
      "metadata": {
        "colab": {
          "base_uri": "https://localhost:8080/",
          "height": 111
        },
        "id": "842438c4",
        "outputId": "8fbd8a5f-0c23-437b-dc7a-0592624b3369"
      },
      "outputs": [
        {
          "output_type": "stream",
          "name": "stderr",
          "text": [
            "/usr/local/lib/python3.8/dist-packages/pymc3/sampling.py:1708: UserWarning: samples parameter is smaller than nchains times ndraws, some draws and/or chains may not be represented in the returned posterior predictive sample\n",
            "  warnings.warn(\n"
          ]
        },
        {
          "output_type": "display_data",
          "data": {
            "text/plain": [
              "<IPython.core.display.HTML object>"
            ],
            "text/html": [
              "\n",
              "<style>\n",
              "    /* Turns off some styling */\n",
              "    progress {\n",
              "        /* gets rid of default border in Firefox and Opera. */\n",
              "        border: none;\n",
              "        /* Needs to be in here for Safari polyfill so background images work as expected. */\n",
              "        background-size: auto;\n",
              "    }\n",
              "    progress:not([value]), progress:not([value])::-webkit-progress-bar {\n",
              "        background: repeating-linear-gradient(45deg, #7e7e7e, #7e7e7e 10px, #5c5c5c 10px, #5c5c5c 20px);\n",
              "    }\n",
              "    .progress-bar-interrupted, .progress-bar-interrupted::-webkit-progress-bar {\n",
              "        background: #F44336;\n",
              "    }\n",
              "</style>\n"
            ]
          },
          "metadata": {}
        },
        {
          "output_type": "display_data",
          "data": {
            "text/plain": [
              "<IPython.core.display.HTML object>"
            ],
            "text/html": [
              "\n",
              "    <div>\n",
              "      <progress value='500' class='' max='500' style='width:300px; height:20px; vertical-align: middle;'></progress>\n",
              "      100.00% [500/500 00:03&lt;00:00]\n",
              "    </div>\n",
              "    "
            ]
          },
          "metadata": {}
        },
        {
          "output_type": "stream",
          "name": "stdout",
          "text": [
            "Accuracy of the logistic model: 0.734916992846538\n"
          ]
        }
      ],
      "source": [
        "from sklearn.metrics import accuracy_score, f1_score, confusion_matrix\n",
        "\n",
        "#posterior predictive check for advanced model\n",
        "ppc = pm.sample_posterior_predictive(trace, model = logistic_model, samples = 500)\n",
        "preds = np.rint(ppc['y'].mean(axis = 0)).astype('int')\n",
        "print('Accuracy of the logistic model:', accuracy_score(preds, final_df['affluent']))"
      ]
    }
  ],
  "metadata": {
    "kernelspec": {
      "display_name": "Python 3 (ipykernel)",
      "language": "python",
      "name": "python3"
    },
    "language_info": {
      "codemirror_mode": {
        "name": "ipython",
        "version": 3
      },
      "file_extension": ".py",
      "mimetype": "text/x-python",
      "name": "python",
      "nbconvert_exporter": "python",
      "pygments_lexer": "ipython3",
      "version": "3.9.13"
    },
    "colab": {
      "provenance": [],
      "collapsed_sections": [
        "a23d2d7f"
      ]
    }
  },
  "nbformat": 4,
  "nbformat_minor": 5
}